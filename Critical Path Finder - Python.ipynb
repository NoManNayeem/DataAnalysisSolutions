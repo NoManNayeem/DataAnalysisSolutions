{
 "cells": [
  {
   "cell_type": "markdown",
   "id": "d199279c",
   "metadata": {},
   "source": [
    "# CRITICAL PATH METHOD (CPM)"
   ]
  },
  {
   "cell_type": "markdown",
   "id": "679827d5",
   "metadata": {},
   "source": [
    "<u>**Problem**:</u> You have a project consisting of various activities that need to be completed.\n",
    "        Each activity has a duration, and there can be dependencies between activities.\n",
    "        The DataFrame contains three columns:<br><br><br>\n",
    "\n",
    "**\"Activities\":** This column represents the names or identifiers of the activities.<br><br>\n",
    "**\"Predecessor\":** This column specifies the activities that need to be completed before a particular activity can start.<br>\n",
    "    It can contain multiple predecessors separated by commas.<br><br>\n",
    "**\"Durations\":** This column represents the duration (in some unit of time) required to complete each activity.<br>\n",
    "    You need to find the critical path of the project, which is the sequence of activities that has the longest total duration.<br>\n",
    "    The critical path determines the minimum time required to complete the entire project.<br>\n",
    "    Additionally, you need to calculate the minimum durations to complete all the activities.<br>"
   ]
  },
  {
   "cell_type": "markdown",
   "id": "41158970",
   "metadata": {},
   "source": [
    "Import Libraries "
   ]
  },
  {
   "cell_type": "code",
   "execution_count": 1,
   "id": "e715c09f",
   "metadata": {},
   "outputs": [],
   "source": [
    "import pandas as pd\n",
    "import numpy as np\n"
   ]
  },
  {
   "cell_type": "code",
   "execution_count": 2,
   "id": "c2583be3",
   "metadata": {},
   "outputs": [],
   "source": [
    "\n",
    "def find_critical_path(df):\n",
    "    # Create a dictionary to store the activity durations and another dict to store the predecessors for each activity\n",
    "    durations = {}\n",
    "    predecessors = {}\n",
    "\n",
    "    # Iterate over the DataFrame rows and populate the durations and predecessors dictionaries\n",
    "    for index, row in df.iterrows():\n",
    "        activity = row['Activities']\n",
    "        duration = row['Durations']\n",
    "        predecessors[activity] = row['Predecessor'].split(',') if pd.notnull(row['Predecessor']) else []\n",
    "        durations[activity] = duration\n",
    "\n",
    "    # Create a dictionary to store the earliest start time for each activity\n",
    "    earliest_start = {}\n",
    "\n",
    "    # Initialize the earliest start time for the first activity as 0\n",
    "    earliest_start[df.iloc[0]['Activities']] = 0\n",
    "\n",
    "    # Iterate over the DataFrame rows to calculate the earliest start time for each activity\n",
    "    for index, row in df.iterrows():\n",
    "        activity = row['Activities']\n",
    "\n",
    "        if activity not in earliest_start:\n",
    "            earliest_start[activity] = max([earliest_start[p] + durations[p] for p in predecessors[activity]])\n",
    "\n",
    "    # Create a dictionary to store the latest start time for each activity\n",
    "    latest_start = {}\n",
    "\n",
    "    # Initialize the latest start time for the last activity as the earliest start time\n",
    "    latest_start[df.iloc[-1]['Activities']] = earliest_start[df.iloc[-1]['Activities']]\n",
    "\n",
    "    # Iterate over the DataFrame rows in reverse order to calculate the latest start time for each activity\n",
    "    for index, row in df[::-1].iterrows():\n",
    "        activity = row['Activities']\n",
    "\n",
    "        if activity not in latest_start:\n",
    "            successors = [s for s in df[df['Predecessor'].str.contains(activity, na=False)]['Activities']]\n",
    "\n",
    "            if len(successors) > 0:\n",
    "                latest_start[activity] = min([latest_start[s] - durations[activity] for s in successors])\n",
    "            else:\n",
    "                latest_start[activity] = earliest_start[df.iloc[-1]['Activities']] - durations[activity]\n",
    "\n",
    "    # Create a dictionary to store the critical path and its duration\n",
    "    critical_path = {}\n",
    "\n",
    "    # Iterate over the DataFrame rows to determine the critical path and its duration\n",
    "    for index, row in df.iterrows():\n",
    "        activity = row['Activities']\n",
    "        duration = row['Durations']\n",
    "        slack = latest_start[activity] - earliest_start[activity]\n",
    "\n",
    "        if slack == 0:\n",
    "            critical_path[activity] = duration\n",
    "\n",
    "    # Calculate the minimum duration to complete all activities\n",
    "    min_duration = sum(critical_path.values())\n",
    "\n",
    "    return critical_path, min_duration\n"
   ]
  },
  {
   "cell_type": "markdown",
   "id": "7f14f4a5",
   "metadata": {},
   "source": [
    "Test Case 1"
   ]
  },
  {
   "cell_type": "code",
   "execution_count": 3,
   "id": "bbde1bb7",
   "metadata": {},
   "outputs": [
    {
     "name": "stdout",
     "output_type": "stream",
     "text": [
      "Critical Path: {'E': 6, 'G': 4}\n",
      "Minimum Duration: 10\n"
     ]
    }
   ],
   "source": [
    "# Example usage\n",
    "df = pd.DataFrame({\n",
    "    'Activities': ['A', 'B', 'C', 'D', 'E', 'F', 'G'],\n",
    "    'Predecessor': [np.nan, 'A', 'A', 'B,C', 'C', 'D', 'E'],\n",
    "    'Durations': [5, 3, 2, 4, 6, 7, 4]\n",
    "})\n",
    "\n",
    "critical_path, min_duration = find_critical_path(df)\n",
    "print(\"Critical Path:\", critical_path)\n",
    "print(\"Minimum Duration:\", min_duration)\n"
   ]
  },
  {
   "cell_type": "markdown",
   "id": "841e6c9c",
   "metadata": {},
   "source": [
    "Test Case 2"
   ]
  },
  {
   "cell_type": "code",
   "execution_count": 4,
   "id": "b05fe9e3",
   "metadata": {},
   "outputs": [
    {
     "name": "stdout",
     "output_type": "stream",
     "text": [
      "Critical Path: {'A': 7, 'B': 9, 'D': 8, 'G': 2, 'H': 1}\n",
      "Minimum Duration: 27\n"
     ]
    }
   ],
   "source": [
    "# Example usage\n",
    "df = pd.DataFrame({\n",
    "    'Activities': ['A', 'B', 'C', 'D', 'E', 'F', 'G', 'H'],\n",
    "    'Predecessor': [np.nan, 'A', 'A', 'B', 'C', 'C', 'D,E,F','G'],\n",
    "    'Durations': [7, 9, 3, 8, 5, 4, 2, 1]\n",
    "})\n",
    "\n",
    "critical_path, min_duration = find_critical_path(df)\n",
    "print(\"Critical Path:\", critical_path)\n",
    "print(\"Minimum Duration:\", min_duration)\n"
   ]
  },
  {
   "cell_type": "code",
   "execution_count": null,
   "id": "110a3976",
   "metadata": {},
   "outputs": [],
   "source": []
  },
  {
   "cell_type": "code",
   "execution_count": null,
   "id": "3ffc9158",
   "metadata": {},
   "outputs": [],
   "source": []
  }
 ],
 "metadata": {
  "kernelspec": {
   "display_name": "Python 3 (ipykernel)",
   "language": "python",
   "name": "python3"
  },
  "language_info": {
   "codemirror_mode": {
    "name": "ipython",
    "version": 3
   },
   "file_extension": ".py",
   "mimetype": "text/x-python",
   "name": "python",
   "nbconvert_exporter": "python",
   "pygments_lexer": "ipython3",
   "version": "3.10.9"
  }
 },
 "nbformat": 4,
 "nbformat_minor": 5
}
