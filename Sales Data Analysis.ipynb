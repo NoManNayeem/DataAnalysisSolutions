{
 "cells": [
  {
   "cell_type": "code",
   "execution_count": 1,
   "id": "3d491e49",
   "metadata": {},
   "outputs": [],
   "source": [
    "\n",
    "#### import lib #####\n",
    "import os\n",
    "import numpy as np\n",
    "import pandas as pd\n",
    "import time\n",
    "import io\n",
    "import plotly.express as px\n",
    "import matplotlib.pyplot as plt\n",
    "import matplotlib.pyplot as mp\n",
    "import seaborn as sns\n",
    "\n",
    "%matplotlib inline"
   ]
  },
  {
   "cell_type": "code",
   "execution_count": 2,
   "id": "aa79f127",
   "metadata": {},
   "outputs": [],
   "source": [
    "# To Solve AttributeError: 'ElementTree' object has no attribute 'getiterator'\n",
    "import xlrd\n",
    "xlrd.xlsx.ensure_elementtree_imported(False, None)\n",
    "xlrd.xlsx.Element_has_iter = True"
   ]
  },
  {
   "cell_type": "code",
   "execution_count": 3,
   "id": "08bed4c3",
   "metadata": {},
   "outputs": [],
   "source": [
    "colors = []\n",
    "for i in range(35):\n",
    "    color = f'C{i}'\n",
    "    colors.append(color)\n"
   ]
  },
  {
   "cell_type": "code",
   "execution_count": 4,
   "id": "d72ac3ba",
   "metadata": {},
   "outputs": [],
   "source": [
    "# Path to Dataset\n",
    "path_to_dataset = 'C:/Users/NayeemIslam/Downloads/CommercialData/ComData.xlsx'"
   ]
  },
  {
   "cell_type": "code",
   "execution_count": 5,
   "id": "be908462",
   "metadata": {},
   "outputs": [
    {
     "data": {
      "text/html": [
       "<div>\n",
       "<style scoped>\n",
       "    .dataframe tbody tr th:only-of-type {\n",
       "        vertical-align: middle;\n",
       "    }\n",
       "\n",
       "    .dataframe tbody tr th {\n",
       "        vertical-align: top;\n",
       "    }\n",
       "\n",
       "    .dataframe thead th {\n",
       "        text-align: right;\n",
       "    }\n",
       "</style>\n",
       "<table border=\"1\" class=\"dataframe\">\n",
       "  <thead>\n",
       "    <tr style=\"text-align: right;\">\n",
       "      <th></th>\n",
       "      <th>Date</th>\n",
       "      <th>Account</th>\n",
       "      <th>Destination</th>\n",
       "      <th>Count In</th>\n",
       "      <th>Count Out</th>\n",
       "    </tr>\n",
       "  </thead>\n",
       "  <tbody>\n",
       "    <tr>\n",
       "      <th>0</th>\n",
       "      <td>2022-07-01</td>\n",
       "      <td>8x8 International</td>\n",
       "      <td>Bangladesh - Banglalink/Orascom</td>\n",
       "      <td>11</td>\n",
       "      <td>11</td>\n",
       "    </tr>\n",
       "    <tr>\n",
       "      <th>1</th>\n",
       "      <td>2022-07-01</td>\n",
       "      <td>8x8 International</td>\n",
       "      <td>Bangladesh - GrameenPhone</td>\n",
       "      <td>9</td>\n",
       "      <td>9</td>\n",
       "    </tr>\n",
       "    <tr>\n",
       "      <th>2</th>\n",
       "      <td>2022-07-01</td>\n",
       "      <td>8x8 International</td>\n",
       "      <td>Bangladesh - Robi/Aktel</td>\n",
       "      <td>9978</td>\n",
       "      <td>9978</td>\n",
       "    </tr>\n",
       "    <tr>\n",
       "      <th>3</th>\n",
       "      <td>2022-07-01</td>\n",
       "      <td>8x8 International</td>\n",
       "      <td>Bangladesh - TeleTalk</td>\n",
       "      <td>2</td>\n",
       "      <td>2</td>\n",
       "    </tr>\n",
       "    <tr>\n",
       "      <th>4</th>\n",
       "      <td>2022-07-01</td>\n",
       "      <td>AMD Telecom</td>\n",
       "      <td>Bangladesh - Robi/Aktel</td>\n",
       "      <td>152</td>\n",
       "      <td>152</td>\n",
       "    </tr>\n",
       "    <tr>\n",
       "      <th>...</th>\n",
       "      <td>...</td>\n",
       "      <td>...</td>\n",
       "      <td>...</td>\n",
       "      <td>...</td>\n",
       "      <td>...</td>\n",
       "    </tr>\n",
       "    <tr>\n",
       "      <th>4172</th>\n",
       "      <td>2022-07-31</td>\n",
       "      <td>Vonage</td>\n",
       "      <td>Bangladesh - Banglalink/Orascom</td>\n",
       "      <td>1</td>\n",
       "      <td>1</td>\n",
       "    </tr>\n",
       "    <tr>\n",
       "      <th>4173</th>\n",
       "      <td>2022-07-31</td>\n",
       "      <td>Vonage</td>\n",
       "      <td>Bangladesh - GrameenPhone</td>\n",
       "      <td>3</td>\n",
       "      <td>3</td>\n",
       "    </tr>\n",
       "    <tr>\n",
       "      <th>4174</th>\n",
       "      <td>2022-07-31</td>\n",
       "      <td>Vonage</td>\n",
       "      <td>Bangladesh - Robi/Aktel</td>\n",
       "      <td>40451</td>\n",
       "      <td>40451</td>\n",
       "    </tr>\n",
       "    <tr>\n",
       "      <th>4175</th>\n",
       "      <td>2022-07-31</td>\n",
       "      <td>Vonage</td>\n",
       "      <td>Cambodia - Smart Mobile</td>\n",
       "      <td>13565</td>\n",
       "      <td>13565</td>\n",
       "    </tr>\n",
       "    <tr>\n",
       "      <th>4176</th>\n",
       "      <td>2022-07-31</td>\n",
       "      <td>Wayvz</td>\n",
       "      <td>Nepal - Ncell</td>\n",
       "      <td>56829</td>\n",
       "      <td>56721</td>\n",
       "    </tr>\n",
       "  </tbody>\n",
       "</table>\n",
       "<p>4177 rows × 5 columns</p>\n",
       "</div>"
      ],
      "text/plain": [
       "           Date            Account                      Destination  Count In  \\\n",
       "0    2022-07-01  8x8 International  Bangladesh - Banglalink/Orascom        11   \n",
       "1    2022-07-01  8x8 International        Bangladesh - GrameenPhone         9   \n",
       "2    2022-07-01  8x8 International          Bangladesh - Robi/Aktel      9978   \n",
       "3    2022-07-01  8x8 International            Bangladesh - TeleTalk         2   \n",
       "4    2022-07-01        AMD Telecom          Bangladesh - Robi/Aktel       152   \n",
       "...         ...                ...                              ...       ...   \n",
       "4172 2022-07-31             Vonage  Bangladesh - Banglalink/Orascom         1   \n",
       "4173 2022-07-31             Vonage        Bangladesh - GrameenPhone         3   \n",
       "4174 2022-07-31             Vonage          Bangladesh - Robi/Aktel     40451   \n",
       "4175 2022-07-31             Vonage          Cambodia - Smart Mobile     13565   \n",
       "4176 2022-07-31              Wayvz                    Nepal - Ncell     56829   \n",
       "\n",
       "      Count Out  \n",
       "0            11  \n",
       "1             9  \n",
       "2          9978  \n",
       "3             2  \n",
       "4           152  \n",
       "...         ...  \n",
       "4172          1  \n",
       "4173          3  \n",
       "4174      40451  \n",
       "4175      13565  \n",
       "4176      56721  \n",
       "\n",
       "[4177 rows x 5 columns]"
      ]
     },
     "execution_count": 5,
     "metadata": {},
     "output_type": "execute_result"
    }
   ],
   "source": [
    "# df1 = pd.read_excel(path_to_dataset)\n",
    "df = pd.read_excel(path_to_dataset, converters= {'Date': pd.to_datetime})\n",
    "df"
   ]
  },
  {
   "cell_type": "code",
   "execution_count": 6,
   "id": "073ec91a",
   "metadata": {},
   "outputs": [
    {
     "data": {
      "text/html": [
       "<div>\n",
       "<style scoped>\n",
       "    .dataframe tbody tr th:only-of-type {\n",
       "        vertical-align: middle;\n",
       "    }\n",
       "\n",
       "    .dataframe tbody tr th {\n",
       "        vertical-align: top;\n",
       "    }\n",
       "\n",
       "    .dataframe thead th {\n",
       "        text-align: right;\n",
       "    }\n",
       "</style>\n",
       "<table border=\"1\" class=\"dataframe\">\n",
       "  <thead>\n",
       "    <tr style=\"text-align: right;\">\n",
       "      <th></th>\n",
       "      <th>Date</th>\n",
       "      <th>Account</th>\n",
       "      <th>Destination</th>\n",
       "      <th>Count In</th>\n",
       "      <th>Count Out</th>\n",
       "    </tr>\n",
       "  </thead>\n",
       "  <tbody>\n",
       "    <tr>\n",
       "      <th>0</th>\n",
       "      <td>2022-07-01</td>\n",
       "      <td>8x8 International</td>\n",
       "      <td>Bangladesh - Banglalink/Orascom</td>\n",
       "      <td>11</td>\n",
       "      <td>11</td>\n",
       "    </tr>\n",
       "    <tr>\n",
       "      <th>1</th>\n",
       "      <td>2022-07-01</td>\n",
       "      <td>8x8 International</td>\n",
       "      <td>Bangladesh - GrameenPhone</td>\n",
       "      <td>9</td>\n",
       "      <td>9</td>\n",
       "    </tr>\n",
       "    <tr>\n",
       "      <th>2</th>\n",
       "      <td>2022-07-01</td>\n",
       "      <td>8x8 International</td>\n",
       "      <td>Bangladesh - Robi/Aktel</td>\n",
       "      <td>9978</td>\n",
       "      <td>9978</td>\n",
       "    </tr>\n",
       "    <tr>\n",
       "      <th>3</th>\n",
       "      <td>2022-07-01</td>\n",
       "      <td>8x8 International</td>\n",
       "      <td>Bangladesh - TeleTalk</td>\n",
       "      <td>2</td>\n",
       "      <td>2</td>\n",
       "    </tr>\n",
       "    <tr>\n",
       "      <th>4</th>\n",
       "      <td>2022-07-01</td>\n",
       "      <td>AMD Telecom</td>\n",
       "      <td>Bangladesh - Robi/Aktel</td>\n",
       "      <td>152</td>\n",
       "      <td>152</td>\n",
       "    </tr>\n",
       "    <tr>\n",
       "      <th>...</th>\n",
       "      <td>...</td>\n",
       "      <td>...</td>\n",
       "      <td>...</td>\n",
       "      <td>...</td>\n",
       "      <td>...</td>\n",
       "    </tr>\n",
       "    <tr>\n",
       "      <th>4172</th>\n",
       "      <td>2022-07-31</td>\n",
       "      <td>Vonage</td>\n",
       "      <td>Bangladesh - Banglalink/Orascom</td>\n",
       "      <td>1</td>\n",
       "      <td>1</td>\n",
       "    </tr>\n",
       "    <tr>\n",
       "      <th>4173</th>\n",
       "      <td>2022-07-31</td>\n",
       "      <td>Vonage</td>\n",
       "      <td>Bangladesh - GrameenPhone</td>\n",
       "      <td>3</td>\n",
       "      <td>3</td>\n",
       "    </tr>\n",
       "    <tr>\n",
       "      <th>4174</th>\n",
       "      <td>2022-07-31</td>\n",
       "      <td>Vonage</td>\n",
       "      <td>Bangladesh - Robi/Aktel</td>\n",
       "      <td>40451</td>\n",
       "      <td>40451</td>\n",
       "    </tr>\n",
       "    <tr>\n",
       "      <th>4175</th>\n",
       "      <td>2022-07-31</td>\n",
       "      <td>Vonage</td>\n",
       "      <td>Cambodia - Smart Mobile</td>\n",
       "      <td>13565</td>\n",
       "      <td>13565</td>\n",
       "    </tr>\n",
       "    <tr>\n",
       "      <th>4176</th>\n",
       "      <td>2022-07-31</td>\n",
       "      <td>Wayvz</td>\n",
       "      <td>Nepal - Ncell</td>\n",
       "      <td>56829</td>\n",
       "      <td>56721</td>\n",
       "    </tr>\n",
       "  </tbody>\n",
       "</table>\n",
       "<p>4177 rows × 5 columns</p>\n",
       "</div>"
      ],
      "text/plain": [
       "           Date            Account                      Destination  Count In  \\\n",
       "0    2022-07-01  8x8 International  Bangladesh - Banglalink/Orascom        11   \n",
       "1    2022-07-01  8x8 International        Bangladesh - GrameenPhone         9   \n",
       "2    2022-07-01  8x8 International          Bangladesh - Robi/Aktel      9978   \n",
       "3    2022-07-01  8x8 International            Bangladesh - TeleTalk         2   \n",
       "4    2022-07-01        AMD Telecom          Bangladesh - Robi/Aktel       152   \n",
       "...         ...                ...                              ...       ...   \n",
       "4172 2022-07-31             Vonage  Bangladesh - Banglalink/Orascom         1   \n",
       "4173 2022-07-31             Vonage        Bangladesh - GrameenPhone         3   \n",
       "4174 2022-07-31             Vonage          Bangladesh - Robi/Aktel     40451   \n",
       "4175 2022-07-31             Vonage          Cambodia - Smart Mobile     13565   \n",
       "4176 2022-07-31              Wayvz                    Nepal - Ncell     56829   \n",
       "\n",
       "      Count Out  \n",
       "0            11  \n",
       "1             9  \n",
       "2          9978  \n",
       "3             2  \n",
       "4           152  \n",
       "...         ...  \n",
       "4172          1  \n",
       "4173          3  \n",
       "4174      40451  \n",
       "4175      13565  \n",
       "4176      56721  \n",
       "\n",
       "[4177 rows x 5 columns]"
      ]
     },
     "execution_count": 6,
     "metadata": {},
     "output_type": "execute_result"
    }
   ],
   "source": [
    "df.dropna()\n"
   ]
  },
  {
   "cell_type": "code",
   "execution_count": 7,
   "id": "a3c9a48a",
   "metadata": {},
   "outputs": [
    {
     "name": "stdout",
     "output_type": "stream",
     "text": [
      "count 1129\n",
      "cIn 87442876\n",
      "cOut 87368702\n"
     ]
    }
   ],
   "source": [
    "#### find if Count in = Count Out\n",
    "count = 0\n",
    "countIn = 0\n",
    "countOut = 0\n",
    "for index, row in df.iterrows():\n",
    "    c_in=row['Count In']\n",
    "    countIn = countIn+c_in\n",
    "    c_out=row['Count Out']\n",
    "    countOut = countOut+c_out\n",
    "    if c_in !=c_out:\n",
    "        count = count+1\n",
    "#         print(\"found 1\")\n",
    "print(\"count\",count)\n",
    "print(\"cIn\",countIn )\n",
    "print(\"cOut\",countOut)"
   ]
  },
  {
   "cell_type": "code",
   "execution_count": 8,
   "id": "38719a5e",
   "metadata": {},
   "outputs": [
    {
     "data": {
      "image/png": "[encoded data removed]",
      "text/plain": [
       "<Figure size 576x432 with 1 Axes>"
      ]
     },
     "metadata": {
      "needs_background": "light"
     },
     "output_type": "display_data"
    }
   ],
   "source": [
    "data = [442876,368702]\n",
    "\n",
    "\n",
    "#### Garph Size ########\n",
    "plt.rcParams[\"figure.figsize\"] = [8,6]\n",
    "#### Garph Size ########\n",
    "\n",
    "labels = ['Count In', 'Count Out']\n",
    "plt.xticks(range(len(data)), labels)\n",
    "# plt.xlabel('Class')\n",
    "plt.ylabel('Amounts')\n",
    "plt.title('Count In VS Count Out')\n",
    "plt.bar(range(len(data)), data, color=[ 'red', 'green', 'blue', 'cyan']) \n",
    "plt.show()\n"
   ]
  },
  {
   "cell_type": "code",
   "execution_count": null,
   "id": "ff54847f",
   "metadata": {},
   "outputs": [],
   "source": []
  },
  {
   "cell_type": "code",
   "execution_count": 9,
   "id": "7798b65d",
   "metadata": {},
   "outputs": [
    {
     "data": {
      "text/html": [
       "<div>\n",
       "<style scoped>\n",
       "    .dataframe tbody tr th:only-of-type {\n",
       "        vertical-align: middle;\n",
       "    }\n",
       "\n",
       "    .dataframe tbody tr th {\n",
       "        vertical-align: top;\n",
       "    }\n",
       "\n",
       "    .dataframe thead th {\n",
       "        text-align: right;\n",
       "    }\n",
       "</style>\n",
       "<table border=\"1\" class=\"dataframe\">\n",
       "  <thead>\n",
       "    <tr style=\"text-align: right;\">\n",
       "      <th></th>\n",
       "      <th>Date</th>\n",
       "      <th>Account</th>\n",
       "      <th>Destination</th>\n",
       "      <th>Count In</th>\n",
       "      <th>Count Out</th>\n",
       "    </tr>\n",
       "  </thead>\n",
       "  <tbody>\n",
       "    <tr>\n",
       "      <th>0</th>\n",
       "      <td>2022-07-01</td>\n",
       "      <td>8x8 International</td>\n",
       "      <td>Bangladesh - Banglalink/Orascom</td>\n",
       "      <td>11</td>\n",
       "      <td>11</td>\n",
       "    </tr>\n",
       "    <tr>\n",
       "      <th>1</th>\n",
       "      <td>2022-07-01</td>\n",
       "      <td>8x8 International</td>\n",
       "      <td>Bangladesh - GrameenPhone</td>\n",
       "      <td>9</td>\n",
       "      <td>9</td>\n",
       "    </tr>\n",
       "    <tr>\n",
       "      <th>2</th>\n",
       "      <td>2022-07-01</td>\n",
       "      <td>8x8 International</td>\n",
       "      <td>Bangladesh - Robi/Aktel</td>\n",
       "      <td>9978</td>\n",
       "      <td>9978</td>\n",
       "    </tr>\n",
       "    <tr>\n",
       "      <th>3</th>\n",
       "      <td>2022-07-01</td>\n",
       "      <td>8x8 International</td>\n",
       "      <td>Bangladesh - TeleTalk</td>\n",
       "      <td>2</td>\n",
       "      <td>2</td>\n",
       "    </tr>\n",
       "    <tr>\n",
       "      <th>4</th>\n",
       "      <td>2022-07-01</td>\n",
       "      <td>AMD Telecom</td>\n",
       "      <td>Bangladesh - Robi/Aktel</td>\n",
       "      <td>152</td>\n",
       "      <td>152</td>\n",
       "    </tr>\n",
       "    <tr>\n",
       "      <th>...</th>\n",
       "      <td>...</td>\n",
       "      <td>...</td>\n",
       "      <td>...</td>\n",
       "      <td>...</td>\n",
       "      <td>...</td>\n",
       "    </tr>\n",
       "    <tr>\n",
       "      <th>4172</th>\n",
       "      <td>2022-07-31</td>\n",
       "      <td>Vonage</td>\n",
       "      <td>Bangladesh - Banglalink/Orascom</td>\n",
       "      <td>1</td>\n",
       "      <td>1</td>\n",
       "    </tr>\n",
       "    <tr>\n",
       "      <th>4173</th>\n",
       "      <td>2022-07-31</td>\n",
       "      <td>Vonage</td>\n",
       "      <td>Bangladesh - GrameenPhone</td>\n",
       "      <td>3</td>\n",
       "      <td>3</td>\n",
       "    </tr>\n",
       "    <tr>\n",
       "      <th>4174</th>\n",
       "      <td>2022-07-31</td>\n",
       "      <td>Vonage</td>\n",
       "      <td>Bangladesh - Robi/Aktel</td>\n",
       "      <td>40451</td>\n",
       "      <td>40451</td>\n",
       "    </tr>\n",
       "    <tr>\n",
       "      <th>4175</th>\n",
       "      <td>2022-07-31</td>\n",
       "      <td>Vonage</td>\n",
       "      <td>Cambodia - Smart Mobile</td>\n",
       "      <td>13565</td>\n",
       "      <td>13565</td>\n",
       "    </tr>\n",
       "    <tr>\n",
       "      <th>4176</th>\n",
       "      <td>2022-07-31</td>\n",
       "      <td>Wayvz</td>\n",
       "      <td>Nepal - Ncell</td>\n",
       "      <td>56829</td>\n",
       "      <td>56721</td>\n",
       "    </tr>\n",
       "  </tbody>\n",
       "</table>\n",
       "<p>4177 rows × 5 columns</p>\n",
       "</div>"
      ],
      "text/plain": [
       "           Date            Account                      Destination  Count In  \\\n",
       "0    2022-07-01  8x8 International  Bangladesh - Banglalink/Orascom        11   \n",
       "1    2022-07-01  8x8 International        Bangladesh - GrameenPhone         9   \n",
       "2    2022-07-01  8x8 International          Bangladesh - Robi/Aktel      9978   \n",
       "3    2022-07-01  8x8 International            Bangladesh - TeleTalk         2   \n",
       "4    2022-07-01        AMD Telecom          Bangladesh - Robi/Aktel       152   \n",
       "...         ...                ...                              ...       ...   \n",
       "4172 2022-07-31             Vonage  Bangladesh - Banglalink/Orascom         1   \n",
       "4173 2022-07-31             Vonage        Bangladesh - GrameenPhone         3   \n",
       "4174 2022-07-31             Vonage          Bangladesh - Robi/Aktel     40451   \n",
       "4175 2022-07-31             Vonage          Cambodia - Smart Mobile     13565   \n",
       "4176 2022-07-31              Wayvz                    Nepal - Ncell     56829   \n",
       "\n",
       "      Count Out  \n",
       "0            11  \n",
       "1             9  \n",
       "2          9978  \n",
       "3             2  \n",
       "4           152  \n",
       "...         ...  \n",
       "4172          1  \n",
       "4173          3  \n",
       "4174      40451  \n",
       "4175      13565  \n",
       "4176      56721  \n",
       "\n",
       "[4177 rows x 5 columns]"
      ]
     },
     "execution_count": 9,
     "metadata": {},
     "output_type": "execute_result"
    }
   ],
   "source": [
    "df1=df\n",
    "df1"
   ]
  },
  {
   "cell_type": "code",
   "execution_count": 10,
   "id": "3eb608cd",
   "metadata": {},
   "outputs": [
    {
     "data": {
      "text/plain": [
       "(4177, 5)"
      ]
     },
     "execution_count": 10,
     "metadata": {},
     "output_type": "execute_result"
    }
   ],
   "source": [
    "df1.shape"
   ]
  },
  {
   "cell_type": "code",
   "execution_count": 11,
   "id": "b6ff4ad3",
   "metadata": {},
   "outputs": [
    {
     "data": {
      "text/html": [
       "<div>\n",
       "<style scoped>\n",
       "    .dataframe tbody tr th:only-of-type {\n",
       "        vertical-align: middle;\n",
       "    }\n",
       "\n",
       "    .dataframe tbody tr th {\n",
       "        vertical-align: top;\n",
       "    }\n",
       "\n",
       "    .dataframe thead th {\n",
       "        text-align: right;\n",
       "    }\n",
       "</style>\n",
       "<table border=\"1\" class=\"dataframe\">\n",
       "  <thead>\n",
       "    <tr style=\"text-align: right;\">\n",
       "      <th></th>\n",
       "      <th>Date</th>\n",
       "      <th>Account</th>\n",
       "      <th>Destination</th>\n",
       "      <th>Count In</th>\n",
       "      <th>Count Out</th>\n",
       "      <th>week_Of_year</th>\n",
       "    </tr>\n",
       "  </thead>\n",
       "  <tbody>\n",
       "    <tr>\n",
       "      <th>0</th>\n",
       "      <td>2022-07-01</td>\n",
       "      <td>8x8 International</td>\n",
       "      <td>Bangladesh - Banglalink/Orascom</td>\n",
       "      <td>11</td>\n",
       "      <td>11</td>\n",
       "      <td>26</td>\n",
       "    </tr>\n",
       "    <tr>\n",
       "      <th>1</th>\n",
       "      <td>2022-07-01</td>\n",
       "      <td>8x8 International</td>\n",
       "      <td>Bangladesh - GrameenPhone</td>\n",
       "      <td>9</td>\n",
       "      <td>9</td>\n",
       "      <td>26</td>\n",
       "    </tr>\n",
       "    <tr>\n",
       "      <th>2</th>\n",
       "      <td>2022-07-01</td>\n",
       "      <td>8x8 International</td>\n",
       "      <td>Bangladesh - Robi/Aktel</td>\n",
       "      <td>9978</td>\n",
       "      <td>9978</td>\n",
       "      <td>26</td>\n",
       "    </tr>\n",
       "    <tr>\n",
       "      <th>3</th>\n",
       "      <td>2022-07-01</td>\n",
       "      <td>8x8 International</td>\n",
       "      <td>Bangladesh - TeleTalk</td>\n",
       "      <td>2</td>\n",
       "      <td>2</td>\n",
       "      <td>26</td>\n",
       "    </tr>\n",
       "    <tr>\n",
       "      <th>4</th>\n",
       "      <td>2022-07-01</td>\n",
       "      <td>AMD Telecom</td>\n",
       "      <td>Bangladesh - Robi/Aktel</td>\n",
       "      <td>152</td>\n",
       "      <td>152</td>\n",
       "      <td>26</td>\n",
       "    </tr>\n",
       "    <tr>\n",
       "      <th>...</th>\n",
       "      <td>...</td>\n",
       "      <td>...</td>\n",
       "      <td>...</td>\n",
       "      <td>...</td>\n",
       "      <td>...</td>\n",
       "      <td>...</td>\n",
       "    </tr>\n",
       "    <tr>\n",
       "      <th>4172</th>\n",
       "      <td>2022-07-31</td>\n",
       "      <td>Vonage</td>\n",
       "      <td>Bangladesh - Banglalink/Orascom</td>\n",
       "      <td>1</td>\n",
       "      <td>1</td>\n",
       "      <td>30</td>\n",
       "    </tr>\n",
       "    <tr>\n",
       "      <th>4173</th>\n",
       "      <td>2022-07-31</td>\n",
       "      <td>Vonage</td>\n",
       "      <td>Bangladesh - GrameenPhone</td>\n",
       "      <td>3</td>\n",
       "      <td>3</td>\n",
       "      <td>30</td>\n",
       "    </tr>\n",
       "    <tr>\n",
       "      <th>4174</th>\n",
       "      <td>2022-07-31</td>\n",
       "      <td>Vonage</td>\n",
       "      <td>Bangladesh - Robi/Aktel</td>\n",
       "      <td>40451</td>\n",
       "      <td>40451</td>\n",
       "      <td>30</td>\n",
       "    </tr>\n",
       "    <tr>\n",
       "      <th>4175</th>\n",
       "      <td>2022-07-31</td>\n",
       "      <td>Vonage</td>\n",
       "      <td>Cambodia - Smart Mobile</td>\n",
       "      <td>13565</td>\n",
       "      <td>13565</td>\n",
       "      <td>30</td>\n",
       "    </tr>\n",
       "    <tr>\n",
       "      <th>4176</th>\n",
       "      <td>2022-07-31</td>\n",
       "      <td>Wayvz</td>\n",
       "      <td>Nepal - Ncell</td>\n",
       "      <td>56829</td>\n",
       "      <td>56721</td>\n",
       "      <td>30</td>\n",
       "    </tr>\n",
       "  </tbody>\n",
       "</table>\n",
       "<p>4177 rows × 6 columns</p>\n",
       "</div>"
      ],
      "text/plain": [
       "           Date            Account                      Destination  Count In  \\\n",
       "0    2022-07-01  8x8 International  Bangladesh - Banglalink/Orascom        11   \n",
       "1    2022-07-01  8x8 International        Bangladesh - GrameenPhone         9   \n",
       "2    2022-07-01  8x8 International          Bangladesh - Robi/Aktel      9978   \n",
       "3    2022-07-01  8x8 International            Bangladesh - TeleTalk         2   \n",
       "4    2022-07-01        AMD Telecom          Bangladesh - Robi/Aktel       152   \n",
       "...         ...                ...                              ...       ...   \n",
       "4172 2022-07-31             Vonage  Bangladesh - Banglalink/Orascom         1   \n",
       "4173 2022-07-31             Vonage        Bangladesh - GrameenPhone         3   \n",
       "4174 2022-07-31             Vonage          Bangladesh - Robi/Aktel     40451   \n",
       "4175 2022-07-31             Vonage          Cambodia - Smart Mobile     13565   \n",
       "4176 2022-07-31              Wayvz                    Nepal - Ncell     56829   \n",
       "\n",
       "      Count Out  week_Of_year  \n",
       "0            11            26  \n",
       "1             9            26  \n",
       "2          9978            26  \n",
       "3             2            26  \n",
       "4           152            26  \n",
       "...         ...           ...  \n",
       "4172          1            30  \n",
       "4173          3            30  \n",
       "4174      40451            30  \n",
       "4175      13565            30  \n",
       "4176      56721            30  \n",
       "\n",
       "[4177 rows x 6 columns]"
      ]
     },
     "execution_count": 11,
     "metadata": {},
     "output_type": "execute_result"
    }
   ],
   "source": [
    "df1[\"week_Of_year\"] = df1['Date'].dt.isocalendar().week\n",
    "df1"
   ]
  },
  {
   "cell_type": "markdown",
   "id": "4d7ce08c",
   "metadata": {},
   "source": [
    "# Weekly Data"
   ]
  },
  {
   "cell_type": "code",
   "execution_count": 12,
   "id": "819c0d75",
   "metadata": {
    "scrolled": true
   },
   "outputs": [
    {
     "data": {
      "text/html": [
       "<div>\n",
       "<style scoped>\n",
       "    .dataframe tbody tr th:only-of-type {\n",
       "        vertical-align: middle;\n",
       "    }\n",
       "\n",
       "    .dataframe tbody tr th {\n",
       "        vertical-align: top;\n",
       "    }\n",
       "\n",
       "    .dataframe thead th {\n",
       "        text-align: right;\n",
       "    }\n",
       "</style>\n",
       "<table border=\"1\" class=\"dataframe\">\n",
       "  <thead>\n",
       "    <tr style=\"text-align: right;\">\n",
       "      <th></th>\n",
       "      <th>week_Of_year</th>\n",
       "      <th>Count In</th>\n",
       "      <th>Count Out</th>\n",
       "    </tr>\n",
       "  </thead>\n",
       "  <tbody>\n",
       "    <tr>\n",
       "      <th>0</th>\n",
       "      <td>26</td>\n",
       "      <td>7638681</td>\n",
       "      <td>7629155</td>\n",
       "    </tr>\n",
       "    <tr>\n",
       "      <th>1</th>\n",
       "      <td>27</td>\n",
       "      <td>18569575</td>\n",
       "      <td>18558291</td>\n",
       "    </tr>\n",
       "    <tr>\n",
       "      <th>2</th>\n",
       "      <td>28</td>\n",
       "      <td>19065217</td>\n",
       "      <td>19048241</td>\n",
       "    </tr>\n",
       "    <tr>\n",
       "      <th>3</th>\n",
       "      <td>29</td>\n",
       "      <td>19579861</td>\n",
       "      <td>19557336</td>\n",
       "    </tr>\n",
       "    <tr>\n",
       "      <th>4</th>\n",
       "      <td>30</td>\n",
       "      <td>22589542</td>\n",
       "      <td>22575679</td>\n",
       "    </tr>\n",
       "  </tbody>\n",
       "</table>\n",
       "</div>"
      ],
      "text/plain": [
       "   week_Of_year  Count In  Count Out\n",
       "0            26   7638681    7629155\n",
       "1            27  18569575   18558291\n",
       "2            28  19065217   19048241\n",
       "3            29  19579861   19557336\n",
       "4            30  22589542   22575679"
      ]
     },
     "execution_count": 12,
     "metadata": {},
     "output_type": "execute_result"
    }
   ],
   "source": [
    "groupByWeek = df1.groupby('week_Of_year').sum().reset_index()\n",
    "# groupByWeek = groupByWeek['week_Of_year', \"Count In\", \"Count Out\"]\n",
    "\n",
    "groupByWeek"
   ]
  },
  {
   "cell_type": "code",
   "execution_count": 13,
   "id": "44e7aedc",
   "metadata": {},
   "outputs": [
    {
     "data": {
      "text/plain": [
       "(5, 3)"
      ]
     },
     "execution_count": 13,
     "metadata": {},
     "output_type": "execute_result"
    }
   ],
   "source": [
    "\n",
    "#### Garph Size ########\n",
    "plt.rcParams[\"figure.figsize\"] = [16,9]\n",
    "#### Garph Size ########\n",
    "\n",
    "groupByWeek.shape"
   ]
  },
  {
   "cell_type": "code",
   "execution_count": 14,
   "id": "bc4ce106",
   "metadata": {},
   "outputs": [
    {
     "data": {
      "text/plain": [
       "<AxesSubplot:xlabel='week_Of_year'>"
      ]
     },
     "execution_count": 14,
     "metadata": {},
     "output_type": "execute_result"
    },
    {
     "data": {
      "image/png": "[encoded data removed]",
      "text/plain": [
       "<Figure size 1152x648 with 1 Axes>"
      ]
     },
     "metadata": {
      "needs_background": "light"
     },
     "output_type": "display_data"
    }
   ],
   "source": [
    "# groupByWeek.plot(x=\"week_Of_year\", y=[\"Count In\", \"Count Out\"], kind=\"bar\")\n",
    "##### Only Count In\n",
    "groupByWeek.plot(x=\"week_Of_year\", y=\"Count In\", kind=\"bar\",color=colors)"
   ]
  },
  {
   "cell_type": "code",
   "execution_count": null,
   "id": "3358b2a8",
   "metadata": {},
   "outputs": [],
   "source": []
  },
  {
   "cell_type": "markdown",
   "id": "68c5022b",
   "metadata": {},
   "source": [
    "# AccountWise Data"
   ]
  },
  {
   "cell_type": "code",
   "execution_count": 15,
   "id": "c31549ce",
   "metadata": {},
   "outputs": [
    {
     "data": {
      "text/html": [
       "<div>\n",
       "<style scoped>\n",
       "    .dataframe tbody tr th:only-of-type {\n",
       "        vertical-align: middle;\n",
       "    }\n",
       "\n",
       "    .dataframe tbody tr th {\n",
       "        vertical-align: top;\n",
       "    }\n",
       "\n",
       "    .dataframe thead th {\n",
       "        text-align: right;\n",
       "    }\n",
       "</style>\n",
       "<table border=\"1\" class=\"dataframe\">\n",
       "  <thead>\n",
       "    <tr style=\"text-align: right;\">\n",
       "      <th></th>\n",
       "      <th>Date</th>\n",
       "      <th>Account</th>\n",
       "      <th>Destination</th>\n",
       "      <th>Count In</th>\n",
       "      <th>Count Out</th>\n",
       "      <th>week_Of_year</th>\n",
       "    </tr>\n",
       "  </thead>\n",
       "  <tbody>\n",
       "    <tr>\n",
       "      <th>0</th>\n",
       "      <td>2022-07-01</td>\n",
       "      <td>8x8 International</td>\n",
       "      <td>Bangladesh - Banglalink/Orascom</td>\n",
       "      <td>11</td>\n",
       "      <td>11</td>\n",
       "      <td>26</td>\n",
       "    </tr>\n",
       "    <tr>\n",
       "      <th>1</th>\n",
       "      <td>2022-07-01</td>\n",
       "      <td>8x8 International</td>\n",
       "      <td>Bangladesh - GrameenPhone</td>\n",
       "      <td>9</td>\n",
       "      <td>9</td>\n",
       "      <td>26</td>\n",
       "    </tr>\n",
       "    <tr>\n",
       "      <th>2</th>\n",
       "      <td>2022-07-01</td>\n",
       "      <td>8x8 International</td>\n",
       "      <td>Bangladesh - Robi/Aktel</td>\n",
       "      <td>9978</td>\n",
       "      <td>9978</td>\n",
       "      <td>26</td>\n",
       "    </tr>\n",
       "    <tr>\n",
       "      <th>3</th>\n",
       "      <td>2022-07-01</td>\n",
       "      <td>8x8 International</td>\n",
       "      <td>Bangladesh - TeleTalk</td>\n",
       "      <td>2</td>\n",
       "      <td>2</td>\n",
       "      <td>26</td>\n",
       "    </tr>\n",
       "    <tr>\n",
       "      <th>4</th>\n",
       "      <td>2022-07-01</td>\n",
       "      <td>AMD Telecom</td>\n",
       "      <td>Bangladesh - Robi/Aktel</td>\n",
       "      <td>152</td>\n",
       "      <td>152</td>\n",
       "      <td>26</td>\n",
       "    </tr>\n",
       "    <tr>\n",
       "      <th>...</th>\n",
       "      <td>...</td>\n",
       "      <td>...</td>\n",
       "      <td>...</td>\n",
       "      <td>...</td>\n",
       "      <td>...</td>\n",
       "      <td>...</td>\n",
       "    </tr>\n",
       "    <tr>\n",
       "      <th>4172</th>\n",
       "      <td>2022-07-31</td>\n",
       "      <td>Vonage</td>\n",
       "      <td>Bangladesh - Banglalink/Orascom</td>\n",
       "      <td>1</td>\n",
       "      <td>1</td>\n",
       "      <td>30</td>\n",
       "    </tr>\n",
       "    <tr>\n",
       "      <th>4173</th>\n",
       "      <td>2022-07-31</td>\n",
       "      <td>Vonage</td>\n",
       "      <td>Bangladesh - GrameenPhone</td>\n",
       "      <td>3</td>\n",
       "      <td>3</td>\n",
       "      <td>30</td>\n",
       "    </tr>\n",
       "    <tr>\n",
       "      <th>4174</th>\n",
       "      <td>2022-07-31</td>\n",
       "      <td>Vonage</td>\n",
       "      <td>Bangladesh - Robi/Aktel</td>\n",
       "      <td>40451</td>\n",
       "      <td>40451</td>\n",
       "      <td>30</td>\n",
       "    </tr>\n",
       "    <tr>\n",
       "      <th>4175</th>\n",
       "      <td>2022-07-31</td>\n",
       "      <td>Vonage</td>\n",
       "      <td>Cambodia - Smart Mobile</td>\n",
       "      <td>13565</td>\n",
       "      <td>13565</td>\n",
       "      <td>30</td>\n",
       "    </tr>\n",
       "    <tr>\n",
       "      <th>4176</th>\n",
       "      <td>2022-07-31</td>\n",
       "      <td>Wayvz</td>\n",
       "      <td>Nepal - Ncell</td>\n",
       "      <td>56829</td>\n",
       "      <td>56721</td>\n",
       "      <td>30</td>\n",
       "    </tr>\n",
       "  </tbody>\n",
       "</table>\n",
       "<p>4177 rows × 6 columns</p>\n",
       "</div>"
      ],
      "text/plain": [
       "           Date            Account                      Destination  Count In  \\\n",
       "0    2022-07-01  8x8 International  Bangladesh - Banglalink/Orascom        11   \n",
       "1    2022-07-01  8x8 International        Bangladesh - GrameenPhone         9   \n",
       "2    2022-07-01  8x8 International          Bangladesh - Robi/Aktel      9978   \n",
       "3    2022-07-01  8x8 International            Bangladesh - TeleTalk         2   \n",
       "4    2022-07-01        AMD Telecom          Bangladesh - Robi/Aktel       152   \n",
       "...         ...                ...                              ...       ...   \n",
       "4172 2022-07-31             Vonage  Bangladesh - Banglalink/Orascom         1   \n",
       "4173 2022-07-31             Vonage        Bangladesh - GrameenPhone         3   \n",
       "4174 2022-07-31             Vonage          Bangladesh - Robi/Aktel     40451   \n",
       "4175 2022-07-31             Vonage          Cambodia - Smart Mobile     13565   \n",
       "4176 2022-07-31              Wayvz                    Nepal - Ncell     56829   \n",
       "\n",
       "      Count Out  week_Of_year  \n",
       "0            11            26  \n",
       "1             9            26  \n",
       "2          9978            26  \n",
       "3             2            26  \n",
       "4           152            26  \n",
       "...         ...           ...  \n",
       "4172          1            30  \n",
       "4173          3            30  \n",
       "4174      40451            30  \n",
       "4175      13565            30  \n",
       "4176      56721            30  \n",
       "\n",
       "[4177 rows x 6 columns]"
      ]
     },
     "execution_count": 15,
     "metadata": {},
     "output_type": "execute_result"
    }
   ],
   "source": [
    "df"
   ]
  },
  {
   "cell_type": "code",
   "execution_count": 16,
   "id": "136ec6eb",
   "metadata": {},
   "outputs": [
    {
     "data": {
      "text/html": [
       "<div>\n",
       "<style scoped>\n",
       "    .dataframe tbody tr th:only-of-type {\n",
       "        vertical-align: middle;\n",
       "    }\n",
       "\n",
       "    .dataframe tbody tr th {\n",
       "        vertical-align: top;\n",
       "    }\n",
       "\n",
       "    .dataframe thead th {\n",
       "        text-align: right;\n",
       "    }\n",
       "</style>\n",
       "<table border=\"1\" class=\"dataframe\">\n",
       "  <thead>\n",
       "    <tr style=\"text-align: right;\">\n",
       "      <th></th>\n",
       "      <th>week_Of_year</th>\n",
       "      <th>Account</th>\n",
       "      <th>Count In</th>\n",
       "      <th>Count Out</th>\n",
       "    </tr>\n",
       "  </thead>\n",
       "  <tbody>\n",
       "    <tr>\n",
       "      <th>0</th>\n",
       "      <td>26</td>\n",
       "      <td>8x8 International</td>\n",
       "      <td>11</td>\n",
       "      <td>11</td>\n",
       "    </tr>\n",
       "    <tr>\n",
       "      <th>1</th>\n",
       "      <td>26</td>\n",
       "      <td>8x8 International</td>\n",
       "      <td>9</td>\n",
       "      <td>9</td>\n",
       "    </tr>\n",
       "    <tr>\n",
       "      <th>2</th>\n",
       "      <td>26</td>\n",
       "      <td>8x8 International</td>\n",
       "      <td>9978</td>\n",
       "      <td>9978</td>\n",
       "    </tr>\n",
       "    <tr>\n",
       "      <th>3</th>\n",
       "      <td>26</td>\n",
       "      <td>8x8 International</td>\n",
       "      <td>2</td>\n",
       "      <td>2</td>\n",
       "    </tr>\n",
       "    <tr>\n",
       "      <th>4</th>\n",
       "      <td>26</td>\n",
       "      <td>AMD Telecom</td>\n",
       "      <td>152</td>\n",
       "      <td>152</td>\n",
       "    </tr>\n",
       "    <tr>\n",
       "      <th>...</th>\n",
       "      <td>...</td>\n",
       "      <td>...</td>\n",
       "      <td>...</td>\n",
       "      <td>...</td>\n",
       "    </tr>\n",
       "    <tr>\n",
       "      <th>4172</th>\n",
       "      <td>30</td>\n",
       "      <td>Vonage</td>\n",
       "      <td>1</td>\n",
       "      <td>1</td>\n",
       "    </tr>\n",
       "    <tr>\n",
       "      <th>4173</th>\n",
       "      <td>30</td>\n",
       "      <td>Vonage</td>\n",
       "      <td>3</td>\n",
       "      <td>3</td>\n",
       "    </tr>\n",
       "    <tr>\n",
       "      <th>4174</th>\n",
       "      <td>30</td>\n",
       "      <td>Vonage</td>\n",
       "      <td>40451</td>\n",
       "      <td>40451</td>\n",
       "    </tr>\n",
       "    <tr>\n",
       "      <th>4175</th>\n",
       "      <td>30</td>\n",
       "      <td>Vonage</td>\n",
       "      <td>13565</td>\n",
       "      <td>13565</td>\n",
       "    </tr>\n",
       "    <tr>\n",
       "      <th>4176</th>\n",
       "      <td>30</td>\n",
       "      <td>Wayvz</td>\n",
       "      <td>56829</td>\n",
       "      <td>56721</td>\n",
       "    </tr>\n",
       "  </tbody>\n",
       "</table>\n",
       "<p>4177 rows × 4 columns</p>\n",
       "</div>"
      ],
      "text/plain": [
       "      week_Of_year            Account  Count In  Count Out\n",
       "0               26  8x8 International        11         11\n",
       "1               26  8x8 International         9          9\n",
       "2               26  8x8 International      9978       9978\n",
       "3               26  8x8 International         2          2\n",
       "4               26        AMD Telecom       152        152\n",
       "...            ...                ...       ...        ...\n",
       "4172            30             Vonage         1          1\n",
       "4173            30             Vonage         3          3\n",
       "4174            30             Vonage     40451      40451\n",
       "4175            30             Vonage     13565      13565\n",
       "4176            30              Wayvz     56829      56721\n",
       "\n",
       "[4177 rows x 4 columns]"
      ]
     },
     "execution_count": 16,
     "metadata": {},
     "output_type": "execute_result"
    }
   ],
   "source": [
    "df2 = df[[\"week_Of_year\",\"Account\",\"Count In\",\"Count Out\"]]\n",
    "df2"
   ]
  },
  {
   "cell_type": "code",
   "execution_count": 17,
   "id": "02c009f6",
   "metadata": {},
   "outputs": [
    {
     "data": {
      "text/html": [
       "<div>\n",
       "<style scoped>\n",
       "    .dataframe tbody tr th:only-of-type {\n",
       "        vertical-align: middle;\n",
       "    }\n",
       "\n",
       "    .dataframe tbody tr th {\n",
       "        vertical-align: top;\n",
       "    }\n",
       "\n",
       "    .dataframe thead th {\n",
       "        text-align: right;\n",
       "    }\n",
       "</style>\n",
       "<table border=\"1\" class=\"dataframe\">\n",
       "  <thead>\n",
       "    <tr style=\"text-align: right;\">\n",
       "      <th></th>\n",
       "      <th>Account</th>\n",
       "      <th>week_Of_year</th>\n",
       "      <th>Count In</th>\n",
       "      <th>Count Out</th>\n",
       "    </tr>\n",
       "  </thead>\n",
       "  <tbody>\n",
       "    <tr>\n",
       "      <th>0</th>\n",
       "      <td>8x8 International</td>\n",
       "      <td>2165</td>\n",
       "      <td>127128</td>\n",
       "      <td>127079</td>\n",
       "    </tr>\n",
       "    <tr>\n",
       "      <th>1</th>\n",
       "      <td>AMD Telecom</td>\n",
       "      <td>2476</td>\n",
       "      <td>254140</td>\n",
       "      <td>252648</td>\n",
       "    </tr>\n",
       "    <tr>\n",
       "      <th>2</th>\n",
       "      <td>Alibaba Cloud (Singapore) Private Limited</td>\n",
       "      <td>143</td>\n",
       "      <td>82</td>\n",
       "      <td>78</td>\n",
       "    </tr>\n",
       "    <tr>\n",
       "      <th>3</th>\n",
       "      <td>Bharti Airtel</td>\n",
       "      <td>3266</td>\n",
       "      <td>1518091</td>\n",
       "      <td>1521759</td>\n",
       "    </tr>\n",
       "    <tr>\n",
       "      <th>4</th>\n",
       "      <td>CM Telecom</td>\n",
       "      <td>6994</td>\n",
       "      <td>87594</td>\n",
       "      <td>87426</td>\n",
       "    </tr>\n",
       "  </tbody>\n",
       "</table>\n",
       "</div>"
      ],
      "text/plain": [
       "                                     Account  week_Of_year  Count In  \\\n",
       "0                          8x8 International          2165    127128   \n",
       "1                                AMD Telecom          2476    254140   \n",
       "2  Alibaba Cloud (Singapore) Private Limited           143        82   \n",
       "3                              Bharti Airtel          3266   1518091   \n",
       "4                                 CM Telecom          6994     87594   \n",
       "\n",
       "   Count Out  \n",
       "0     127079  \n",
       "1     252648  \n",
       "2         78  \n",
       "3    1521759  \n",
       "4      87426  "
      ]
     },
     "execution_count": 17,
     "metadata": {},
     "output_type": "execute_result"
    }
   ],
   "source": [
    "dff = df2.groupby(['Account', ]).sum().reset_index()\n",
    "dff.head(5)"
   ]
  },
  {
   "cell_type": "code",
   "execution_count": 18,
   "id": "b3964077",
   "metadata": {},
   "outputs": [
    {
     "data": {
      "text/html": [
       "<div>\n",
       "<style scoped>\n",
       "    .dataframe tbody tr th:only-of-type {\n",
       "        vertical-align: middle;\n",
       "    }\n",
       "\n",
       "    .dataframe tbody tr th {\n",
       "        vertical-align: top;\n",
       "    }\n",
       "\n",
       "    .dataframe thead th {\n",
       "        text-align: right;\n",
       "    }\n",
       "</style>\n",
       "<table border=\"1\" class=\"dataframe\">\n",
       "  <thead>\n",
       "    <tr style=\"text-align: right;\">\n",
       "      <th></th>\n",
       "      <th>Account</th>\n",
       "      <th>week_Of_year</th>\n",
       "      <th>Count In</th>\n",
       "      <th>Count Out</th>\n",
       "    </tr>\n",
       "  </thead>\n",
       "  <tbody>\n",
       "    <tr>\n",
       "      <th>0</th>\n",
       "      <td>8x8 International</td>\n",
       "      <td>2165</td>\n",
       "      <td>127128</td>\n",
       "      <td>127079</td>\n",
       "    </tr>\n",
       "    <tr>\n",
       "      <th>1</th>\n",
       "      <td>AMD Telecom</td>\n",
       "      <td>2476</td>\n",
       "      <td>254140</td>\n",
       "      <td>252648</td>\n",
       "    </tr>\n",
       "    <tr>\n",
       "      <th>3</th>\n",
       "      <td>Bharti Airtel</td>\n",
       "      <td>3266</td>\n",
       "      <td>1518091</td>\n",
       "      <td>1521759</td>\n",
       "    </tr>\n",
       "    <tr>\n",
       "      <th>7</th>\n",
       "      <td>Facebook</td>\n",
       "      <td>27481</td>\n",
       "      <td>45323625</td>\n",
       "      <td>45312004</td>\n",
       "    </tr>\n",
       "    <tr>\n",
       "      <th>10</th>\n",
       "      <td>Infobip</td>\n",
       "      <td>9830</td>\n",
       "      <td>4860672</td>\n",
       "      <td>4858783</td>\n",
       "    </tr>\n",
       "    <tr>\n",
       "      <th>11</th>\n",
       "      <td>Intellico AG</td>\n",
       "      <td>876</td>\n",
       "      <td>13016229</td>\n",
       "      <td>13014450</td>\n",
       "    </tr>\n",
       "    <tr>\n",
       "      <th>14</th>\n",
       "      <td>Messagebird</td>\n",
       "      <td>10890</td>\n",
       "      <td>2202221</td>\n",
       "      <td>2202096</td>\n",
       "    </tr>\n",
       "    <tr>\n",
       "      <th>16</th>\n",
       "      <td>Mov Telecom</td>\n",
       "      <td>4673</td>\n",
       "      <td>1991217</td>\n",
       "      <td>1975720</td>\n",
       "    </tr>\n",
       "    <tr>\n",
       "      <th>22</th>\n",
       "      <td>Sinch</td>\n",
       "      <td>2839</td>\n",
       "      <td>259362</td>\n",
       "      <td>258604</td>\n",
       "    </tr>\n",
       "    <tr>\n",
       "      <th>25</th>\n",
       "      <td>Telekummunikasi Indonesia</td>\n",
       "      <td>876</td>\n",
       "      <td>12616452</td>\n",
       "      <td>12590018</td>\n",
       "    </tr>\n",
       "    <tr>\n",
       "      <th>26</th>\n",
       "      <td>Twilio</td>\n",
       "      <td>4227</td>\n",
       "      <td>508910</td>\n",
       "      <td>508732</td>\n",
       "    </tr>\n",
       "    <tr>\n",
       "      <th>27</th>\n",
       "      <td>Tyntec</td>\n",
       "      <td>9737</td>\n",
       "      <td>803896</td>\n",
       "      <td>804435</td>\n",
       "    </tr>\n",
       "    <tr>\n",
       "      <th>28</th>\n",
       "      <td>Ventatel</td>\n",
       "      <td>876</td>\n",
       "      <td>247235</td>\n",
       "      <td>247250</td>\n",
       "    </tr>\n",
       "    <tr>\n",
       "      <th>30</th>\n",
       "      <td>Vonage</td>\n",
       "      <td>2702</td>\n",
       "      <td>1347338</td>\n",
       "      <td>1347236</td>\n",
       "    </tr>\n",
       "    <tr>\n",
       "      <th>31</th>\n",
       "      <td>Wayvz</td>\n",
       "      <td>1074</td>\n",
       "      <td>1959363</td>\n",
       "      <td>1944574</td>\n",
       "    </tr>\n",
       "  </tbody>\n",
       "</table>\n",
       "</div>"
      ],
      "text/plain": [
       "                      Account  week_Of_year  Count In  Count Out\n",
       "0           8x8 International          2165    127128     127079\n",
       "1                 AMD Telecom          2476    254140     252648\n",
       "3               Bharti Airtel          3266   1518091    1521759\n",
       "7                    Facebook         27481  45323625   45312004\n",
       "10                    Infobip          9830   4860672    4858783\n",
       "11               Intellico AG           876  13016229   13014450\n",
       "14                Messagebird         10890   2202221    2202096\n",
       "16                Mov Telecom          4673   1991217    1975720\n",
       "22                      Sinch          2839    259362     258604\n",
       "25  Telekummunikasi Indonesia           876  12616452   12590018\n",
       "26                     Twilio          4227    508910     508732\n",
       "27                     Tyntec          9737    803896     804435\n",
       "28                   Ventatel           876    247235     247250\n",
       "30                     Vonage          2702   1347338    1347236\n",
       "31                      Wayvz          1074   1959363    1944574"
      ]
     },
     "execution_count": 18,
     "metadata": {},
     "output_type": "execute_result"
    }
   ],
   "source": [
    "dff_max = dff[dff.iloc[:,2]>100000]\n",
    "dff_max"
   ]
  },
  {
   "cell_type": "code",
   "execution_count": 19,
   "id": "625b34de",
   "metadata": {},
   "outputs": [
    {
     "data": {
      "text/plain": [
       "<AxesSubplot:xlabel='Account'>"
      ]
     },
     "execution_count": 19,
     "metadata": {},
     "output_type": "execute_result"
    },
    {
     "data": {
      "image/png": "[encoded data removed]",
      "text/plain": [
       "<Figure size 1152x648 with 1 Axes>"
      ]
     },
     "metadata": {
      "needs_background": "light"
     },
     "output_type": "display_data"
    }
   ],
   "source": [
    "# dff.plot(x=\"Account\", y=[\"Count In\", \"Count Out\"], kind=\"bar\")\n",
    "###### only count in\n",
    "dff_max.plot(x=\"Account\", y=\"Count In\", kind=\"bar\",color=colors)"
   ]
  },
  {
   "cell_type": "code",
   "execution_count": 20,
   "id": "2f09ee4d",
   "metadata": {},
   "outputs": [],
   "source": [
    "# df"
   ]
  },
  {
   "cell_type": "markdown",
   "id": "96c3fee7",
   "metadata": {},
   "source": [
    "# Destination Wise Data"
   ]
  },
  {
   "cell_type": "code",
   "execution_count": 21,
   "id": "b4bda35f",
   "metadata": {},
   "outputs": [
    {
     "data": {
      "text/html": [
       "<div>\n",
       "<style scoped>\n",
       "    .dataframe tbody tr th:only-of-type {\n",
       "        vertical-align: middle;\n",
       "    }\n",
       "\n",
       "    .dataframe tbody tr th {\n",
       "        vertical-align: top;\n",
       "    }\n",
       "\n",
       "    .dataframe thead th {\n",
       "        text-align: right;\n",
       "    }\n",
       "</style>\n",
       "<table border=\"1\" class=\"dataframe\">\n",
       "  <thead>\n",
       "    <tr style=\"text-align: right;\">\n",
       "      <th></th>\n",
       "      <th>Destination</th>\n",
       "      <th>week_Of_year</th>\n",
       "      <th>Count In</th>\n",
       "      <th>Count Out</th>\n",
       "    </tr>\n",
       "  </thead>\n",
       "  <tbody>\n",
       "    <tr>\n",
       "      <th>0</th>\n",
       "      <td>Bangladesh - Banglalink/Orascom</td>\n",
       "      <td>6728</td>\n",
       "      <td>262348</td>\n",
       "      <td>261290</td>\n",
       "    </tr>\n",
       "    <tr>\n",
       "      <th>2</th>\n",
       "      <td>Bangladesh - GrameenPhone</td>\n",
       "      <td>6777</td>\n",
       "      <td>1289471</td>\n",
       "      <td>1274636</td>\n",
       "    </tr>\n",
       "    <tr>\n",
       "      <th>3</th>\n",
       "      <td>Bangladesh - Robi/Aktel</td>\n",
       "      <td>13552</td>\n",
       "      <td>15725706</td>\n",
       "      <td>15725507</td>\n",
       "    </tr>\n",
       "    <tr>\n",
       "      <th>9</th>\n",
       "      <td>Cambodia - Smart Mobile</td>\n",
       "      <td>14052</td>\n",
       "      <td>7518742</td>\n",
       "      <td>7517978</td>\n",
       "    </tr>\n",
       "    <tr>\n",
       "      <th>16</th>\n",
       "      <td>Indonesia - XL</td>\n",
       "      <td>3666</td>\n",
       "      <td>29745827</td>\n",
       "      <td>29717143</td>\n",
       "    </tr>\n",
       "  </tbody>\n",
       "</table>\n",
       "</div>"
      ],
      "text/plain": [
       "                        Destination  week_Of_year  Count In  Count Out\n",
       "0   Bangladesh - Banglalink/Orascom          6728    262348     261290\n",
       "2         Bangladesh - GrameenPhone          6777   1289471    1274636\n",
       "3           Bangladesh - Robi/Aktel         13552  15725706   15725507\n",
       "9           Cambodia - Smart Mobile         14052   7518742    7517978\n",
       "16                   Indonesia - XL          3666  29745827   29717143"
      ]
     },
     "execution_count": 21,
     "metadata": {},
     "output_type": "execute_result"
    }
   ],
   "source": [
    "df3 = df[[\"week_Of_year\",\"Destination\",\"Count In\",\"Count Out\"]]\n",
    "df_des = df3.groupby(['Destination', ]).sum().reset_index()\n",
    "\n",
    "df_des = df_des[df_des.iloc[:,2]>=100000]\n",
    "\n",
    "df_des.head(5)"
   ]
  },
  {
   "cell_type": "code",
   "execution_count": 22,
   "id": "207bdc57",
   "metadata": {},
   "outputs": [
    {
     "data": {
      "text/plain": [
       "<AxesSubplot:xlabel='Destination'>"
      ]
     },
     "execution_count": 22,
     "metadata": {},
     "output_type": "execute_result"
    },
    {
     "data": {
      "image/png": "[encoded data removed]",
      "text/plain": [
       "<Figure size 1152x648 with 1 Axes>"
      ]
     },
     "metadata": {
      "needs_background": "light"
     },
     "output_type": "display_data"
    }
   ],
   "source": [
    "# df_des.plot(x=\"Destination\", y=[\"Count In\", \"Count Out\"], kind=\"bar\")\n",
    "\n",
    "##### Only Count In\n",
    "df_des.plot(x=\"Destination\", y=\"Count In\", kind=\"bar\",color=colors)"
   ]
  },
  {
   "cell_type": "markdown",
   "id": "8906cdaf",
   "metadata": {},
   "source": [
    "#  ROBI Data"
   ]
  },
  {
   "cell_type": "code",
   "execution_count": 23,
   "id": "884f69eb",
   "metadata": {},
   "outputs": [
    {
     "data": {
      "text/html": [
       "<div>\n",
       "<style scoped>\n",
       "    .dataframe tbody tr th:only-of-type {\n",
       "        vertical-align: middle;\n",
       "    }\n",
       "\n",
       "    .dataframe tbody tr th {\n",
       "        vertical-align: top;\n",
       "    }\n",
       "\n",
       "    .dataframe thead th {\n",
       "        text-align: right;\n",
       "    }\n",
       "</style>\n",
       "<table border=\"1\" class=\"dataframe\">\n",
       "  <thead>\n",
       "    <tr style=\"text-align: right;\">\n",
       "      <th></th>\n",
       "      <th>Date</th>\n",
       "      <th>Account</th>\n",
       "      <th>Destination</th>\n",
       "      <th>Count In</th>\n",
       "      <th>Count Out</th>\n",
       "      <th>week_Of_year</th>\n",
       "    </tr>\n",
       "  </thead>\n",
       "  <tbody>\n",
       "    <tr>\n",
       "      <th>0</th>\n",
       "      <td>2022-07-01</td>\n",
       "      <td>8x8 International</td>\n",
       "      <td>Bangladesh - Banglalink/Orascom</td>\n",
       "      <td>11</td>\n",
       "      <td>11</td>\n",
       "      <td>26</td>\n",
       "    </tr>\n",
       "    <tr>\n",
       "      <th>1</th>\n",
       "      <td>2022-07-01</td>\n",
       "      <td>8x8 International</td>\n",
       "      <td>Bangladesh - GrameenPhone</td>\n",
       "      <td>9</td>\n",
       "      <td>9</td>\n",
       "      <td>26</td>\n",
       "    </tr>\n",
       "    <tr>\n",
       "      <th>2</th>\n",
       "      <td>2022-07-01</td>\n",
       "      <td>8x8 International</td>\n",
       "      <td>Bangladesh - Robi/Aktel</td>\n",
       "      <td>9978</td>\n",
       "      <td>9978</td>\n",
       "      <td>26</td>\n",
       "    </tr>\n",
       "    <tr>\n",
       "      <th>3</th>\n",
       "      <td>2022-07-01</td>\n",
       "      <td>8x8 International</td>\n",
       "      <td>Bangladesh - TeleTalk</td>\n",
       "      <td>2</td>\n",
       "      <td>2</td>\n",
       "      <td>26</td>\n",
       "    </tr>\n",
       "    <tr>\n",
       "      <th>4</th>\n",
       "      <td>2022-07-01</td>\n",
       "      <td>AMD Telecom</td>\n",
       "      <td>Bangladesh - Robi/Aktel</td>\n",
       "      <td>152</td>\n",
       "      <td>152</td>\n",
       "      <td>26</td>\n",
       "    </tr>\n",
       "  </tbody>\n",
       "</table>\n",
       "</div>"
      ],
      "text/plain": [
       "        Date            Account                      Destination  Count In  \\\n",
       "0 2022-07-01  8x8 International  Bangladesh - Banglalink/Orascom        11   \n",
       "1 2022-07-01  8x8 International        Bangladesh - GrameenPhone         9   \n",
       "2 2022-07-01  8x8 International          Bangladesh - Robi/Aktel      9978   \n",
       "3 2022-07-01  8x8 International            Bangladesh - TeleTalk         2   \n",
       "4 2022-07-01        AMD Telecom          Bangladesh - Robi/Aktel       152   \n",
       "\n",
       "   Count Out  week_Of_year  \n",
       "0         11            26  \n",
       "1          9            26  \n",
       "2       9978            26  \n",
       "3          2            26  \n",
       "4        152            26  "
      ]
     },
     "execution_count": 23,
     "metadata": {},
     "output_type": "execute_result"
    }
   ],
   "source": [
    "df.head(5)"
   ]
  },
  {
   "cell_type": "code",
   "execution_count": 24,
   "id": "df9e58e3",
   "metadata": {},
   "outputs": [
    {
     "data": {
      "text/html": [
       "<div>\n",
       "<style scoped>\n",
       "    .dataframe tbody tr th:only-of-type {\n",
       "        vertical-align: middle;\n",
       "    }\n",
       "\n",
       "    .dataframe tbody tr th {\n",
       "        vertical-align: top;\n",
       "    }\n",
       "\n",
       "    .dataframe thead th {\n",
       "        text-align: right;\n",
       "    }\n",
       "</style>\n",
       "<table border=\"1\" class=\"dataframe\">\n",
       "  <thead>\n",
       "    <tr style=\"text-align: right;\">\n",
       "      <th></th>\n",
       "      <th>Date</th>\n",
       "      <th>Account</th>\n",
       "      <th>Destination</th>\n",
       "      <th>Count In</th>\n",
       "      <th>Count Out</th>\n",
       "      <th>week_Of_year</th>\n",
       "    </tr>\n",
       "  </thead>\n",
       "  <tbody>\n",
       "    <tr>\n",
       "      <th>2</th>\n",
       "      <td>2022-07-01</td>\n",
       "      <td>8x8 International</td>\n",
       "      <td>Bangladesh - Robi/Aktel</td>\n",
       "      <td>9978</td>\n",
       "      <td>9978</td>\n",
       "      <td>26</td>\n",
       "    </tr>\n",
       "    <tr>\n",
       "      <th>4</th>\n",
       "      <td>2022-07-01</td>\n",
       "      <td>AMD Telecom</td>\n",
       "      <td>Bangladesh - Robi/Aktel</td>\n",
       "      <td>152</td>\n",
       "      <td>152</td>\n",
       "      <td>26</td>\n",
       "    </tr>\n",
       "    <tr>\n",
       "      <th>9</th>\n",
       "      <td>2022-07-01</td>\n",
       "      <td>Bharti Airtel</td>\n",
       "      <td>Bangladesh - Robi/Aktel</td>\n",
       "      <td>159922</td>\n",
       "      <td>160323</td>\n",
       "      <td>26</td>\n",
       "    </tr>\n",
       "    <tr>\n",
       "      <th>11</th>\n",
       "      <td>2022-07-01</td>\n",
       "      <td>CM Telecom</td>\n",
       "      <td>Bangladesh - Robi/Aktel</td>\n",
       "      <td>20</td>\n",
       "      <td>20</td>\n",
       "      <td>26</td>\n",
       "    </tr>\n",
       "    <tr>\n",
       "      <th>26</th>\n",
       "      <td>2022-07-01</td>\n",
       "      <td>Facebook</td>\n",
       "      <td>Bangladesh - Robi/Aktel</td>\n",
       "      <td>180714</td>\n",
       "      <td>180711</td>\n",
       "      <td>26</td>\n",
       "    </tr>\n",
       "  </tbody>\n",
       "</table>\n",
       "</div>"
      ],
      "text/plain": [
       "         Date            Account              Destination  Count In  \\\n",
       "2  2022-07-01  8x8 International  Bangladesh - Robi/Aktel      9978   \n",
       "4  2022-07-01        AMD Telecom  Bangladesh - Robi/Aktel       152   \n",
       "9  2022-07-01      Bharti Airtel  Bangladesh - Robi/Aktel    159922   \n",
       "11 2022-07-01         CM Telecom  Bangladesh - Robi/Aktel        20   \n",
       "26 2022-07-01           Facebook  Bangladesh - Robi/Aktel    180714   \n",
       "\n",
       "    Count Out  week_Of_year  \n",
       "2        9978            26  \n",
       "4         152            26  \n",
       "9      160323            26  \n",
       "11         20            26  \n",
       "26     180711            26  "
      ]
     },
     "execution_count": 24,
     "metadata": {},
     "output_type": "execute_result"
    }
   ],
   "source": [
    "robi_data = df[df['Destination'].str.contains('Bangladesh - Robi/Aktel')]\n",
    "robi_data.head(5)"
   ]
  },
  {
   "cell_type": "code",
   "execution_count": 25,
   "id": "e070fda2",
   "metadata": {},
   "outputs": [
    {
     "data": {
      "text/html": [
       "<div>\n",
       "<style scoped>\n",
       "    .dataframe tbody tr th:only-of-type {\n",
       "        vertical-align: middle;\n",
       "    }\n",
       "\n",
       "    .dataframe tbody tr th {\n",
       "        vertical-align: top;\n",
       "    }\n",
       "\n",
       "    .dataframe thead th {\n",
       "        text-align: right;\n",
       "    }\n",
       "</style>\n",
       "<table border=\"1\" class=\"dataframe\">\n",
       "  <thead>\n",
       "    <tr style=\"text-align: right;\">\n",
       "      <th></th>\n",
       "      <th>Account</th>\n",
       "      <th>week_Of_year</th>\n",
       "      <th>Count In</th>\n",
       "      <th>Count Out</th>\n",
       "    </tr>\n",
       "  </thead>\n",
       "  <tbody>\n",
       "    <tr>\n",
       "      <th>0</th>\n",
       "      <td>8x8 International</td>\n",
       "      <td>816</td>\n",
       "      <td>126942</td>\n",
       "      <td>126893</td>\n",
       "    </tr>\n",
       "    <tr>\n",
       "      <th>2</th>\n",
       "      <td>Bharti Airtel</td>\n",
       "      <td>876</td>\n",
       "      <td>1515687</td>\n",
       "      <td>1519358</td>\n",
       "    </tr>\n",
       "    <tr>\n",
       "      <th>6</th>\n",
       "      <td>Facebook</td>\n",
       "      <td>876</td>\n",
       "      <td>10124029</td>\n",
       "      <td>10121212</td>\n",
       "    </tr>\n",
       "    <tr>\n",
       "      <th>9</th>\n",
       "      <td>Infobip</td>\n",
       "      <td>876</td>\n",
       "      <td>1281998</td>\n",
       "      <td>1281510</td>\n",
       "    </tr>\n",
       "    <tr>\n",
       "      <th>11</th>\n",
       "      <td>Messagebird</td>\n",
       "      <td>876</td>\n",
       "      <td>876714</td>\n",
       "      <td>876728</td>\n",
       "    </tr>\n",
       "  </tbody>\n",
       "</table>\n",
       "</div>"
      ],
      "text/plain": [
       "              Account  week_Of_year  Count In  Count Out\n",
       "0   8x8 International           816    126942     126893\n",
       "2       Bharti Airtel           876   1515687    1519358\n",
       "6            Facebook           876  10124029   10121212\n",
       "9             Infobip           876   1281998    1281510\n",
       "11        Messagebird           876    876714     876728"
      ]
     },
     "execution_count": 25,
     "metadata": {},
     "output_type": "execute_result"
    }
   ],
   "source": [
    "robi = robi_data[[\"week_Of_year\",\"Account\",\"Count In\",\"Count Out\"]]\n",
    "df_robi = robi.groupby('Account').sum().reset_index()\n",
    "\n",
    "\n",
    "df_robi = df_robi[df_robi.iloc[:,2]>=100000]\n",
    "df_robi.head(5)"
   ]
  },
  {
   "cell_type": "code",
   "execution_count": 26,
   "id": "281046b1",
   "metadata": {},
   "outputs": [
    {
     "data": {
      "text/plain": [
       "<AxesSubplot:xlabel='Account'>"
      ]
     },
     "execution_count": 26,
     "metadata": {},
     "output_type": "execute_result"
    },
    {
     "data": {
      "image/png": "[encoded data removed]",
      "text/plain": [
       "<Figure size 1152x648 with 1 Axes>"
      ]
     },
     "metadata": {
      "needs_background": "light"
     },
     "output_type": "display_data"
    }
   ],
   "source": [
    "# df_robi.plot(x=\"Account\", y=[\"Count In\", \"Count Out\"], kind=\"bar\")\n",
    "\n",
    "######## Only Count In\n",
    "df_robi.plot(x=\"Account\", y=\"Count In\", kind=\"bar\",color=colors)"
   ]
  },
  {
   "cell_type": "markdown",
   "id": "532109c5",
   "metadata": {},
   "source": [
    "# Account VS Destination"
   ]
  },
  {
   "cell_type": "code",
   "execution_count": 27,
   "id": "f2da0394",
   "metadata": {},
   "outputs": [
    {
     "data": {
      "text/html": [
       "<div>\n",
       "<style scoped>\n",
       "    .dataframe tbody tr th:only-of-type {\n",
       "        vertical-align: middle;\n",
       "    }\n",
       "\n",
       "    .dataframe tbody tr th {\n",
       "        vertical-align: top;\n",
       "    }\n",
       "\n",
       "    .dataframe thead th {\n",
       "        text-align: right;\n",
       "    }\n",
       "</style>\n",
       "<table border=\"1\" class=\"dataframe\">\n",
       "  <thead>\n",
       "    <tr style=\"text-align: right;\">\n",
       "      <th></th>\n",
       "      <th>Date</th>\n",
       "      <th>Account</th>\n",
       "      <th>Destination</th>\n",
       "      <th>Count In</th>\n",
       "      <th>Count Out</th>\n",
       "      <th>week_Of_year</th>\n",
       "    </tr>\n",
       "  </thead>\n",
       "  <tbody>\n",
       "    <tr>\n",
       "      <th>0</th>\n",
       "      <td>2022-07-01</td>\n",
       "      <td>8x8 International</td>\n",
       "      <td>Bangladesh - Banglalink/Orascom</td>\n",
       "      <td>11</td>\n",
       "      <td>11</td>\n",
       "      <td>26</td>\n",
       "    </tr>\n",
       "    <tr>\n",
       "      <th>1</th>\n",
       "      <td>2022-07-01</td>\n",
       "      <td>8x8 International</td>\n",
       "      <td>Bangladesh - GrameenPhone</td>\n",
       "      <td>9</td>\n",
       "      <td>9</td>\n",
       "      <td>26</td>\n",
       "    </tr>\n",
       "    <tr>\n",
       "      <th>2</th>\n",
       "      <td>2022-07-01</td>\n",
       "      <td>8x8 International</td>\n",
       "      <td>Bangladesh - Robi/Aktel</td>\n",
       "      <td>9978</td>\n",
       "      <td>9978</td>\n",
       "      <td>26</td>\n",
       "    </tr>\n",
       "    <tr>\n",
       "      <th>3</th>\n",
       "      <td>2022-07-01</td>\n",
       "      <td>8x8 International</td>\n",
       "      <td>Bangladesh - TeleTalk</td>\n",
       "      <td>2</td>\n",
       "      <td>2</td>\n",
       "      <td>26</td>\n",
       "    </tr>\n",
       "    <tr>\n",
       "      <th>4</th>\n",
       "      <td>2022-07-01</td>\n",
       "      <td>AMD Telecom</td>\n",
       "      <td>Bangladesh - Robi/Aktel</td>\n",
       "      <td>152</td>\n",
       "      <td>152</td>\n",
       "      <td>26</td>\n",
       "    </tr>\n",
       "    <tr>\n",
       "      <th>...</th>\n",
       "      <td>...</td>\n",
       "      <td>...</td>\n",
       "      <td>...</td>\n",
       "      <td>...</td>\n",
       "      <td>...</td>\n",
       "      <td>...</td>\n",
       "    </tr>\n",
       "    <tr>\n",
       "      <th>4172</th>\n",
       "      <td>2022-07-31</td>\n",
       "      <td>Vonage</td>\n",
       "      <td>Bangladesh - Banglalink/Orascom</td>\n",
       "      <td>1</td>\n",
       "      <td>1</td>\n",
       "      <td>30</td>\n",
       "    </tr>\n",
       "    <tr>\n",
       "      <th>4173</th>\n",
       "      <td>2022-07-31</td>\n",
       "      <td>Vonage</td>\n",
       "      <td>Bangladesh - GrameenPhone</td>\n",
       "      <td>3</td>\n",
       "      <td>3</td>\n",
       "      <td>30</td>\n",
       "    </tr>\n",
       "    <tr>\n",
       "      <th>4174</th>\n",
       "      <td>2022-07-31</td>\n",
       "      <td>Vonage</td>\n",
       "      <td>Bangladesh - Robi/Aktel</td>\n",
       "      <td>40451</td>\n",
       "      <td>40451</td>\n",
       "      <td>30</td>\n",
       "    </tr>\n",
       "    <tr>\n",
       "      <th>4175</th>\n",
       "      <td>2022-07-31</td>\n",
       "      <td>Vonage</td>\n",
       "      <td>Cambodia - Smart Mobile</td>\n",
       "      <td>13565</td>\n",
       "      <td>13565</td>\n",
       "      <td>30</td>\n",
       "    </tr>\n",
       "    <tr>\n",
       "      <th>4176</th>\n",
       "      <td>2022-07-31</td>\n",
       "      <td>Wayvz</td>\n",
       "      <td>Nepal - Ncell</td>\n",
       "      <td>56829</td>\n",
       "      <td>56721</td>\n",
       "      <td>30</td>\n",
       "    </tr>\n",
       "  </tbody>\n",
       "</table>\n",
       "<p>4177 rows × 6 columns</p>\n",
       "</div>"
      ],
      "text/plain": [
       "           Date            Account                      Destination  Count In  \\\n",
       "0    2022-07-01  8x8 International  Bangladesh - Banglalink/Orascom        11   \n",
       "1    2022-07-01  8x8 International        Bangladesh - GrameenPhone         9   \n",
       "2    2022-07-01  8x8 International          Bangladesh - Robi/Aktel      9978   \n",
       "3    2022-07-01  8x8 International            Bangladesh - TeleTalk         2   \n",
       "4    2022-07-01        AMD Telecom          Bangladesh - Robi/Aktel       152   \n",
       "...         ...                ...                              ...       ...   \n",
       "4172 2022-07-31             Vonage  Bangladesh - Banglalink/Orascom         1   \n",
       "4173 2022-07-31             Vonage        Bangladesh - GrameenPhone         3   \n",
       "4174 2022-07-31             Vonage          Bangladesh - Robi/Aktel     40451   \n",
       "4175 2022-07-31             Vonage          Cambodia - Smart Mobile     13565   \n",
       "4176 2022-07-31              Wayvz                    Nepal - Ncell     56829   \n",
       "\n",
       "      Count Out  week_Of_year  \n",
       "0            11            26  \n",
       "1             9            26  \n",
       "2          9978            26  \n",
       "3             2            26  \n",
       "4           152            26  \n",
       "...         ...           ...  \n",
       "4172          1            30  \n",
       "4173          3            30  \n",
       "4174      40451            30  \n",
       "4175      13565            30  \n",
       "4176      56721            30  \n",
       "\n",
       "[4177 rows x 6 columns]"
      ]
     },
     "execution_count": 27,
     "metadata": {},
     "output_type": "execute_result"
    }
   ],
   "source": [
    "# df_AcVsDs = df[[\"Account\",\"Destination\"]]\n",
    "# df_AcVsDs\n",
    "df"
   ]
  },
  {
   "cell_type": "code",
   "execution_count": 28,
   "id": "373e8194",
   "metadata": {},
   "outputs": [
    {
     "data": {
      "text/html": [
       "<div>\n",
       "<style scoped>\n",
       "    .dataframe tbody tr th:only-of-type {\n",
       "        vertical-align: middle;\n",
       "    }\n",
       "\n",
       "    .dataframe tbody tr th {\n",
       "        vertical-align: top;\n",
       "    }\n",
       "\n",
       "    .dataframe thead th {\n",
       "        text-align: right;\n",
       "    }\n",
       "</style>\n",
       "<table border=\"1\" class=\"dataframe\">\n",
       "  <thead>\n",
       "    <tr style=\"text-align: right;\">\n",
       "      <th></th>\n",
       "      <th>Account</th>\n",
       "      <th>Destination</th>\n",
       "      <th>Count In</th>\n",
       "      <th>Count Out</th>\n",
       "      <th>week_Of_year</th>\n",
       "    </tr>\n",
       "  </thead>\n",
       "  <tbody>\n",
       "    <tr>\n",
       "      <th>2</th>\n",
       "      <td>8x8 International</td>\n",
       "      <td>Bangladesh - Robi/Aktel</td>\n",
       "      <td>126942</td>\n",
       "      <td>126893</td>\n",
       "      <td>816</td>\n",
       "    </tr>\n",
       "    <tr>\n",
       "      <th>7</th>\n",
       "      <td>AMD Telecom</td>\n",
       "      <td>Cambodia - Smart Mobile</td>\n",
       "      <td>154696</td>\n",
       "      <td>154668</td>\n",
       "      <td>848</td>\n",
       "    </tr>\n",
       "    <tr>\n",
       "      <th>13</th>\n",
       "      <td>Bharti Airtel</td>\n",
       "      <td>Bangladesh - Robi/Aktel</td>\n",
       "      <td>1515687</td>\n",
       "      <td>1519358</td>\n",
       "      <td>876</td>\n",
       "    </tr>\n",
       "    <tr>\n",
       "      <th>56</th>\n",
       "      <td>Facebook</td>\n",
       "      <td>Bangladesh - Robi/Aktel</td>\n",
       "      <td>10124029</td>\n",
       "      <td>10121212</td>\n",
       "      <td>876</td>\n",
       "    </tr>\n",
       "    <tr>\n",
       "      <th>62</th>\n",
       "      <td>Facebook</td>\n",
       "      <td>Cambodia - Smart Mobile</td>\n",
       "      <td>2161787</td>\n",
       "      <td>2161473</td>\n",
       "      <td>876</td>\n",
       "    </tr>\n",
       "  </tbody>\n",
       "</table>\n",
       "</div>"
      ],
      "text/plain": [
       "              Account              Destination  Count In  Count Out  \\\n",
       "2   8x8 International  Bangladesh - Robi/Aktel    126942     126893   \n",
       "7         AMD Telecom  Cambodia - Smart Mobile    154696     154668   \n",
       "13      Bharti Airtel  Bangladesh - Robi/Aktel   1515687    1519358   \n",
       "56           Facebook  Bangladesh - Robi/Aktel  10124029   10121212   \n",
       "62           Facebook  Cambodia - Smart Mobile   2161787    2161473   \n",
       "\n",
       "    week_Of_year  \n",
       "2            816  \n",
       "7            848  \n",
       "13           876  \n",
       "56           876  \n",
       "62           876  "
      ]
     },
     "execution_count": 28,
     "metadata": {},
     "output_type": "execute_result"
    }
   ],
   "source": [
    "df4 = df.groupby(['Account','Destination']).sum().reset_index()\n",
    "\n",
    "\n",
    "df4 = df4[df4.iloc[:,2]>=100000]\n",
    "df4.head(5)"
   ]
  },
  {
   "cell_type": "code",
   "execution_count": 29,
   "id": "0c97a948",
   "metadata": {},
   "outputs": [
    {
     "data": {
      "text/plain": [
       "<AxesSubplot:xlabel='DesAc'>"
      ]
     },
     "execution_count": 29,
     "metadata": {},
     "output_type": "execute_result"
    },
    {
     "data": {
      "image/png": "[encoded data removed]",
      "text/plain": [
       "<Figure size 1152x648 with 1 Axes>"
      ]
     },
     "metadata": {
      "needs_background": "light"
     },
     "output_type": "display_data"
    }
   ],
   "source": [
    "# df4.plot(x=\"Account\", y=[\"Count In\", \"Count Out\"], kind=\"bar\")\n",
    "\n",
    "\n",
    "# add Account & Destination Together\n",
    "df4[\"DesAc\"] = df[[\"Account\",\"Destination\"]].apply(\"-\".join, axis=1)\n",
    "df4=df4[[\"DesAc\",\"Count In\"]]\n",
    "\n",
    "######## Only Count In\n",
    "df4.plot(x=\"DesAc\", y=\"Count In\", kind=\"bar\",color=colors)"
   ]
  },
  {
   "cell_type": "code",
   "execution_count": null,
   "id": "f091d0ec",
   "metadata": {},
   "outputs": [],
   "source": []
  },
  {
   "cell_type": "markdown",
   "id": "d187fde2",
   "metadata": {},
   "source": [
    "# Destination VS Account"
   ]
  },
  {
   "cell_type": "code",
   "execution_count": 30,
   "id": "c3e6a644",
   "metadata": {
    "scrolled": false
   },
   "outputs": [
    {
     "data": {
      "text/html": [
       "<div>\n",
       "<style scoped>\n",
       "    .dataframe tbody tr th:only-of-type {\n",
       "        vertical-align: middle;\n",
       "    }\n",
       "\n",
       "    .dataframe tbody tr th {\n",
       "        vertical-align: top;\n",
       "    }\n",
       "\n",
       "    .dataframe thead th {\n",
       "        text-align: right;\n",
       "    }\n",
       "</style>\n",
       "<table border=\"1\" class=\"dataframe\">\n",
       "  <thead>\n",
       "    <tr style=\"text-align: right;\">\n",
       "      <th></th>\n",
       "      <th>Destination</th>\n",
       "      <th>Account</th>\n",
       "      <th>Count In</th>\n",
       "    </tr>\n",
       "  </thead>\n",
       "  <tbody>\n",
       "    <tr>\n",
       "      <th>12</th>\n",
       "      <td>Bangladesh - Banglalink/Orascom</td>\n",
       "      <td>Sinch</td>\n",
       "      <td>155331</td>\n",
       "    </tr>\n",
       "    <tr>\n",
       "      <th>26</th>\n",
       "      <td>Bangladesh - GrameenPhone</td>\n",
       "      <td>Mov Telecom</td>\n",
       "      <td>1257374</td>\n",
       "    </tr>\n",
       "    <tr>\n",
       "      <th>31</th>\n",
       "      <td>Bangladesh - Robi/Aktel</td>\n",
       "      <td>8x8 International</td>\n",
       "      <td>126942</td>\n",
       "    </tr>\n",
       "    <tr>\n",
       "      <th>33</th>\n",
       "      <td>Bangladesh - Robi/Aktel</td>\n",
       "      <td>Bharti Airtel</td>\n",
       "      <td>1515687</td>\n",
       "    </tr>\n",
       "    <tr>\n",
       "      <th>37</th>\n",
       "      <td>Bangladesh - Robi/Aktel</td>\n",
       "      <td>Facebook</td>\n",
       "      <td>10124029</td>\n",
       "    </tr>\n",
       "  </tbody>\n",
       "</table>\n",
       "</div>"
      ],
      "text/plain": [
       "                        Destination            Account  Count In\n",
       "12  Bangladesh - Banglalink/Orascom              Sinch    155331\n",
       "26        Bangladesh - GrameenPhone        Mov Telecom   1257374\n",
       "31          Bangladesh - Robi/Aktel  8x8 International    126942\n",
       "33          Bangladesh - Robi/Aktel      Bharti Airtel   1515687\n",
       "37          Bangladesh - Robi/Aktel           Facebook  10124029"
      ]
     },
     "execution_count": 30,
     "metadata": {},
     "output_type": "execute_result"
    }
   ],
   "source": [
    "df5 = df.groupby(['Destination','Account']).sum().reset_index()\n",
    "\n",
    "\n",
    "df5 = df5[df5.iloc[:,2]>=100000]\n",
    "df5 = df5[[\"Destination\",\"Account\",\"Count In\"]]\n",
    "df5.head(5)"
   ]
  },
  {
   "cell_type": "code",
   "execution_count": 31,
   "id": "2d57dbb9",
   "metadata": {},
   "outputs": [],
   "source": [
    "# df_melted =df5\n",
    "# sns.catplot(kind='bar', data=df_melted, col='Destination', x='Account', y='value', row='Cols', order=sorted(df_melted.Account.unique()),col_order=sorted(df_melted.Destination.unique()), estimator=sum, ci=None, height=3.5)"
   ]
  },
  {
   "cell_type": "code",
   "execution_count": 32,
   "id": "868b9609",
   "metadata": {},
   "outputs": [],
   "source": [
    "# df_melted =df5\n",
    "# sns.catplot(kind='bar', data=df_melted, col='Destination', x='Account', y='Count In', row='Count In', order=sorted(df_melted.Account.unique()),col_order=sorted(df_melted.Destination.unique()), estimator=sum, ci=None, height=3.5)"
   ]
  },
  {
   "cell_type": "code",
   "execution_count": null,
   "id": "d91d5f64",
   "metadata": {},
   "outputs": [],
   "source": []
  },
  {
   "cell_type": "code",
   "execution_count": 33,
   "id": "89fce46c",
   "metadata": {},
   "outputs": [
    {
     "data": {
      "text/plain": [
       "<AxesSubplot:xlabel='Destination'>"
      ]
     },
     "execution_count": 33,
     "metadata": {},
     "output_type": "execute_result"
    },
    {
     "data": {
      "image/png": "[encoded data removed]",
      "text/plain": [
       "<Figure size 1152x648 with 1 Axes>"
      ]
     },
     "metadata": {
      "needs_background": "light"
     },
     "output_type": "display_data"
    }
   ],
   "source": [
    "\n",
    "df5.plot(x=\"Destination\", y=\"Count In\", kind=\"bar\", stacked='True', legend=True, color=colors)"
   ]
  },
  {
   "cell_type": "code",
   "execution_count": 34,
   "id": "9d8641d7",
   "metadata": {},
   "outputs": [],
   "source": [
    "# ax = df5.unstack(level=3).plot(kind='bar', subplots=True, rot=0, figsize=(9, 7), layout=(2, 3))\n",
    "# plt.tight_layout()"
   ]
  },
  {
   "cell_type": "code",
   "execution_count": 35,
   "id": "95ee133a",
   "metadata": {},
   "outputs": [
    {
     "data": {
      "text/html": [
       "<div>\n",
       "<style scoped>\n",
       "    .dataframe tbody tr th:only-of-type {\n",
       "        vertical-align: middle;\n",
       "    }\n",
       "\n",
       "    .dataframe tbody tr th {\n",
       "        vertical-align: top;\n",
       "    }\n",
       "\n",
       "    .dataframe thead th {\n",
       "        text-align: right;\n",
       "    }\n",
       "</style>\n",
       "<table border=\"1\" class=\"dataframe\">\n",
       "  <thead>\n",
       "    <tr style=\"text-align: right;\">\n",
       "      <th></th>\n",
       "      <th>Destination</th>\n",
       "      <th>Account</th>\n",
       "      <th>Count In</th>\n",
       "    </tr>\n",
       "  </thead>\n",
       "  <tbody>\n",
       "    <tr>\n",
       "      <th>12</th>\n",
       "      <td>Bangladesh - Banglalink/Orascom</td>\n",
       "      <td>Sinch</td>\n",
       "      <td>155331</td>\n",
       "    </tr>\n",
       "    <tr>\n",
       "      <th>26</th>\n",
       "      <td>Bangladesh - GrameenPhone</td>\n",
       "      <td>Mov Telecom</td>\n",
       "      <td>1257374</td>\n",
       "    </tr>\n",
       "    <tr>\n",
       "      <th>31</th>\n",
       "      <td>Bangladesh - Robi/Aktel</td>\n",
       "      <td>8x8 International</td>\n",
       "      <td>126942</td>\n",
       "    </tr>\n",
       "    <tr>\n",
       "      <th>33</th>\n",
       "      <td>Bangladesh - Robi/Aktel</td>\n",
       "      <td>Bharti Airtel</td>\n",
       "      <td>1515687</td>\n",
       "    </tr>\n",
       "    <tr>\n",
       "      <th>37</th>\n",
       "      <td>Bangladesh - Robi/Aktel</td>\n",
       "      <td>Facebook</td>\n",
       "      <td>10124029</td>\n",
       "    </tr>\n",
       "  </tbody>\n",
       "</table>\n",
       "</div>"
      ],
      "text/plain": [
       "                        Destination            Account  Count In\n",
       "12  Bangladesh - Banglalink/Orascom              Sinch    155331\n",
       "26        Bangladesh - GrameenPhone        Mov Telecom   1257374\n",
       "31          Bangladesh - Robi/Aktel  8x8 International    126942\n",
       "33          Bangladesh - Robi/Aktel      Bharti Airtel   1515687\n",
       "37          Bangladesh - Robi/Aktel           Facebook  10124029"
      ]
     },
     "execution_count": 35,
     "metadata": {},
     "output_type": "execute_result"
    }
   ],
   "source": [
    "df5.head()"
   ]
  },
  {
   "cell_type": "code",
   "execution_count": 36,
   "id": "d08780b3",
   "metadata": {},
   "outputs": [],
   "source": [
    "df5[\"AcDes\"] = df[[\"Destination\", \"Account\"]].apply(\"-\".join, axis=1)\n",
    "\n",
    "df5 = df5[[\"AcDes\",\"Count In\"]]"
   ]
  },
  {
   "cell_type": "code",
   "execution_count": 37,
   "id": "2747bf6a",
   "metadata": {},
   "outputs": [
    {
     "data": {
      "text/html": [
       "<div>\n",
       "<style scoped>\n",
       "    .dataframe tbody tr th:only-of-type {\n",
       "        vertical-align: middle;\n",
       "    }\n",
       "\n",
       "    .dataframe tbody tr th {\n",
       "        vertical-align: top;\n",
       "    }\n",
       "\n",
       "    .dataframe thead th {\n",
       "        text-align: right;\n",
       "    }\n",
       "</style>\n",
       "<table border=\"1\" class=\"dataframe\">\n",
       "  <thead>\n",
       "    <tr style=\"text-align: right;\">\n",
       "      <th></th>\n",
       "      <th>AcDes</th>\n",
       "      <th>Count In</th>\n",
       "    </tr>\n",
       "  </thead>\n",
       "  <tbody>\n",
       "    <tr>\n",
       "      <th>12</th>\n",
       "      <td>Cambodia - Smart Mobile-CM Telecom</td>\n",
       "      <td>155331</td>\n",
       "    </tr>\n",
       "    <tr>\n",
       "      <th>26</th>\n",
       "      <td>Bangladesh - Robi/Aktel-Facebook</td>\n",
       "      <td>1257374</td>\n",
       "    </tr>\n",
       "    <tr>\n",
       "      <th>31</th>\n",
       "      <td>Cambodia - Seatel-Facebook</td>\n",
       "      <td>126942</td>\n",
       "    </tr>\n",
       "    <tr>\n",
       "      <th>33</th>\n",
       "      <td>Default - Fix Network-Facebook</td>\n",
       "      <td>1515687</td>\n",
       "    </tr>\n",
       "    <tr>\n",
       "      <th>37</th>\n",
       "      <td>Malaysia - Packet One Networks (Malaysia) Sdn ...</td>\n",
       "      <td>10124029</td>\n",
       "    </tr>\n",
       "  </tbody>\n",
       "</table>\n",
       "</div>"
      ],
      "text/plain": [
       "                                                AcDes  Count In\n",
       "12                 Cambodia - Smart Mobile-CM Telecom    155331\n",
       "26                   Bangladesh - Robi/Aktel-Facebook   1257374\n",
       "31                         Cambodia - Seatel-Facebook    126942\n",
       "33                     Default - Fix Network-Facebook   1515687\n",
       "37  Malaysia - Packet One Networks (Malaysia) Sdn ...  10124029"
      ]
     },
     "execution_count": 37,
     "metadata": {},
     "output_type": "execute_result"
    }
   ],
   "source": [
    "df5.head()"
   ]
  },
  {
   "cell_type": "code",
   "execution_count": 38,
   "id": "a4fde010",
   "metadata": {},
   "outputs": [
    {
     "data": {
      "text/plain": [
       "<AxesSubplot:xlabel='AcDes'>"
      ]
     },
     "execution_count": 38,
     "metadata": {},
     "output_type": "execute_result"
    },
    {
     "data": {
      "image/png": "[encoded data removed]",
      "text/plain": [
       "<Figure size 1152x648 with 1 Axes>"
      ]
     },
     "metadata": {
      "needs_background": "light"
     },
     "output_type": "display_data"
    }
   ],
   "source": [
    "df5.plot(x=\"AcDes\", y=\"Count In\", kind=\"bar\", stacked='True', legend=True, color=colors)"
   ]
  },
  {
   "cell_type": "markdown",
   "id": "89dbf744",
   "metadata": {},
   "source": [
    "# Loop Account Wise"
   ]
  },
  {
   "cell_type": "code",
   "execution_count": 39,
   "id": "a0a6825b",
   "metadata": {},
   "outputs": [],
   "source": [
    "\n",
    "#### Garph Size ########\n",
    "plt.rcParams[\"figure.figsize\"] = [8,6]\n",
    "#### Garph Size ########"
   ]
  },
  {
   "cell_type": "code",
   "execution_count": 40,
   "id": "62d51e57",
   "metadata": {},
   "outputs": [
    {
     "data": {
      "text/html": [
       "<div>\n",
       "<style scoped>\n",
       "    .dataframe tbody tr th:only-of-type {\n",
       "        vertical-align: middle;\n",
       "    }\n",
       "\n",
       "    .dataframe tbody tr th {\n",
       "        vertical-align: top;\n",
       "    }\n",
       "\n",
       "    .dataframe thead th {\n",
       "        text-align: right;\n",
       "    }\n",
       "</style>\n",
       "<table border=\"1\" class=\"dataframe\">\n",
       "  <thead>\n",
       "    <tr style=\"text-align: right;\">\n",
       "      <th></th>\n",
       "      <th>Destination</th>\n",
       "      <th>Account</th>\n",
       "      <th>Count In</th>\n",
       "    </tr>\n",
       "  </thead>\n",
       "  <tbody>\n",
       "    <tr>\n",
       "      <th>12</th>\n",
       "      <td>Bangladesh - Banglalink/Orascom</td>\n",
       "      <td>Sinch</td>\n",
       "      <td>155331</td>\n",
       "    </tr>\n",
       "    <tr>\n",
       "      <th>26</th>\n",
       "      <td>Bangladesh - GrameenPhone</td>\n",
       "      <td>Mov Telecom</td>\n",
       "      <td>1257374</td>\n",
       "    </tr>\n",
       "    <tr>\n",
       "      <th>31</th>\n",
       "      <td>Bangladesh - Robi/Aktel</td>\n",
       "      <td>8x8 International</td>\n",
       "      <td>126942</td>\n",
       "    </tr>\n",
       "    <tr>\n",
       "      <th>33</th>\n",
       "      <td>Bangladesh - Robi/Aktel</td>\n",
       "      <td>Bharti Airtel</td>\n",
       "      <td>1515687</td>\n",
       "    </tr>\n",
       "    <tr>\n",
       "      <th>37</th>\n",
       "      <td>Bangladesh - Robi/Aktel</td>\n",
       "      <td>Facebook</td>\n",
       "      <td>10124029</td>\n",
       "    </tr>\n",
       "  </tbody>\n",
       "</table>\n",
       "</div>"
      ],
      "text/plain": [
       "                        Destination            Account  Count In\n",
       "12  Bangladesh - Banglalink/Orascom              Sinch    155331\n",
       "26        Bangladesh - GrameenPhone        Mov Telecom   1257374\n",
       "31          Bangladesh - Robi/Aktel  8x8 International    126942\n",
       "33          Bangladesh - Robi/Aktel      Bharti Airtel   1515687\n",
       "37          Bangladesh - Robi/Aktel           Facebook  10124029"
      ]
     },
     "execution_count": 40,
     "metadata": {},
     "output_type": "execute_result"
    }
   ],
   "source": [
    "df_loop = df.groupby(['Destination','Account']).sum().reset_index()\n",
    "\n",
    "\n",
    "df_loop = df_loop[df_loop.iloc[:,2]>=100000]\n",
    "df_loop = df_loop[[\"Destination\",\"Account\",\"Count In\"]]\n",
    "df_loop.head(5)"
   ]
  },
  {
   "cell_type": "code",
   "execution_count": 41,
   "id": "81d96227",
   "metadata": {},
   "outputs": [
    {
     "data": {
      "text/plain": [
       "['Bangladesh - Banglalink/Orascom',\n",
       " 'Bangladesh - GrameenPhone',\n",
       " 'Bangladesh - Robi/Aktel',\n",
       " 'Cambodia - Smart Mobile',\n",
       " 'Indonesia - XL',\n",
       " 'Malaysia - Celcom',\n",
       " 'Malaysia - Maxis',\n",
       " 'Malaysia - XOX Com',\n",
       " 'Nepal - Ncell',\n",
       " 'Thailand - DTAC',\n",
       " 'Thailand - True Move',\n",
       " 'Vietnam - I-Telecom',\n",
       " 'Vietnam - Mobifone',\n",
       " 'Vietnam - Viettel Mobile',\n",
       " 'Vietnam - Vinaphone']"
      ]
     },
     "execution_count": 41,
     "metadata": {},
     "output_type": "execute_result"
    }
   ],
   "source": [
    "unique_destination = df_loop['Destination'].unique()\n",
    "col_one_list = unique_destination.tolist()\n",
    "col_one_list\n",
    "# for i in col_one_list:\n",
    "#     print(i)"
   ]
  },
  {
   "cell_type": "markdown",
   "id": "7cd18b32",
   "metadata": {},
   "source": [
    "# Data for Bangladesh - Banglalink/Orascom"
   ]
  },
  {
   "cell_type": "code",
   "execution_count": 42,
   "id": "313ba595",
   "metadata": {},
   "outputs": [
    {
     "data": {
      "text/html": [
       "<div>\n",
       "<style scoped>\n",
       "    .dataframe tbody tr th:only-of-type {\n",
       "        vertical-align: middle;\n",
       "    }\n",
       "\n",
       "    .dataframe tbody tr th {\n",
       "        vertical-align: top;\n",
       "    }\n",
       "\n",
       "    .dataframe thead th {\n",
       "        text-align: right;\n",
       "    }\n",
       "</style>\n",
       "<table border=\"1\" class=\"dataframe\">\n",
       "  <thead>\n",
       "    <tr style=\"text-align: right;\">\n",
       "      <th></th>\n",
       "      <th>Destination</th>\n",
       "      <th>Account</th>\n",
       "      <th>Count In</th>\n",
       "    </tr>\n",
       "  </thead>\n",
       "  <tbody>\n",
       "    <tr>\n",
       "      <th>12</th>\n",
       "      <td>Bangladesh - Banglalink/Orascom</td>\n",
       "      <td>Sinch</td>\n",
       "      <td>155331</td>\n",
       "    </tr>\n",
       "  </tbody>\n",
       "</table>\n",
       "</div>"
      ],
      "text/plain": [
       "                        Destination Account  Count In\n",
       "12  Bangladesh - Banglalink/Orascom   Sinch    155331"
      ]
     },
     "execution_count": 42,
     "metadata": {},
     "output_type": "execute_result"
    }
   ],
   "source": [
    "data = df_loop[df_loop['Destination'].str.contains(\"Bangladesh - Banglalink/Orascom\")]\n",
    "data.head(5)"
   ]
  },
  {
   "cell_type": "code",
   "execution_count": null,
   "id": "db353eac",
   "metadata": {},
   "outputs": [],
   "source": []
  },
  {
   "cell_type": "markdown",
   "id": "a13ec0b8",
   "metadata": {},
   "source": [
    "# Data for Bangladesh - GrameenPhone"
   ]
  },
  {
   "cell_type": "code",
   "execution_count": 43,
   "id": "9d96b4c7",
   "metadata": {},
   "outputs": [
    {
     "data": {
      "text/html": [
       "<div>\n",
       "<style scoped>\n",
       "    .dataframe tbody tr th:only-of-type {\n",
       "        vertical-align: middle;\n",
       "    }\n",
       "\n",
       "    .dataframe tbody tr th {\n",
       "        vertical-align: top;\n",
       "    }\n",
       "\n",
       "    .dataframe thead th {\n",
       "        text-align: right;\n",
       "    }\n",
       "</style>\n",
       "<table border=\"1\" class=\"dataframe\">\n",
       "  <thead>\n",
       "    <tr style=\"text-align: right;\">\n",
       "      <th></th>\n",
       "      <th>Destination</th>\n",
       "      <th>Account</th>\n",
       "      <th>Count In</th>\n",
       "    </tr>\n",
       "  </thead>\n",
       "  <tbody>\n",
       "    <tr>\n",
       "      <th>26</th>\n",
       "      <td>Bangladesh - GrameenPhone</td>\n",
       "      <td>Mov Telecom</td>\n",
       "      <td>1257374</td>\n",
       "    </tr>\n",
       "  </tbody>\n",
       "</table>\n",
       "</div>"
      ],
      "text/plain": [
       "                  Destination      Account  Count In\n",
       "26  Bangladesh - GrameenPhone  Mov Telecom   1257374"
      ]
     },
     "execution_count": 43,
     "metadata": {},
     "output_type": "execute_result"
    }
   ],
   "source": [
    "data = df_loop[df_loop['Destination'].str.contains(\"Bangladesh - GrameenPhone\")]\n",
    "data.head(5)"
   ]
  },
  {
   "cell_type": "markdown",
   "id": "ef1fe4c1",
   "metadata": {},
   "source": [
    "# Data For Bangladesh - Robi/Aktel"
   ]
  },
  {
   "cell_type": "code",
   "execution_count": 44,
   "id": "a75b14ba",
   "metadata": {},
   "outputs": [
    {
     "data": {
      "text/html": [
       "<div>\n",
       "<style scoped>\n",
       "    .dataframe tbody tr th:only-of-type {\n",
       "        vertical-align: middle;\n",
       "    }\n",
       "\n",
       "    .dataframe tbody tr th {\n",
       "        vertical-align: top;\n",
       "    }\n",
       "\n",
       "    .dataframe thead th {\n",
       "        text-align: right;\n",
       "    }\n",
       "</style>\n",
       "<table border=\"1\" class=\"dataframe\">\n",
       "  <thead>\n",
       "    <tr style=\"text-align: right;\">\n",
       "      <th></th>\n",
       "      <th>Destination</th>\n",
       "      <th>Account</th>\n",
       "      <th>Count In</th>\n",
       "    </tr>\n",
       "  </thead>\n",
       "  <tbody>\n",
       "    <tr>\n",
       "      <th>31</th>\n",
       "      <td>Bangladesh - Robi/Aktel</td>\n",
       "      <td>8x8 International</td>\n",
       "      <td>126942</td>\n",
       "    </tr>\n",
       "    <tr>\n",
       "      <th>33</th>\n",
       "      <td>Bangladesh - Robi/Aktel</td>\n",
       "      <td>Bharti Airtel</td>\n",
       "      <td>1515687</td>\n",
       "    </tr>\n",
       "    <tr>\n",
       "      <th>37</th>\n",
       "      <td>Bangladesh - Robi/Aktel</td>\n",
       "      <td>Facebook</td>\n",
       "      <td>10124029</td>\n",
       "    </tr>\n",
       "    <tr>\n",
       "      <th>40</th>\n",
       "      <td>Bangladesh - Robi/Aktel</td>\n",
       "      <td>Infobip</td>\n",
       "      <td>1281998</td>\n",
       "    </tr>\n",
       "    <tr>\n",
       "      <th>42</th>\n",
       "      <td>Bangladesh - Robi/Aktel</td>\n",
       "      <td>Messagebird</td>\n",
       "      <td>876714</td>\n",
       "    </tr>\n",
       "  </tbody>\n",
       "</table>\n",
       "</div>"
      ],
      "text/plain": [
       "                Destination            Account  Count In\n",
       "31  Bangladesh - Robi/Aktel  8x8 International    126942\n",
       "33  Bangladesh - Robi/Aktel      Bharti Airtel   1515687\n",
       "37  Bangladesh - Robi/Aktel           Facebook  10124029\n",
       "40  Bangladesh - Robi/Aktel            Infobip   1281998\n",
       "42  Bangladesh - Robi/Aktel        Messagebird    876714"
      ]
     },
     "execution_count": 44,
     "metadata": {},
     "output_type": "execute_result"
    }
   ],
   "source": [
    "data = df_loop[df_loop['Destination'].str.contains(\"Bangladesh - Robi/Aktel\")]\n",
    "data.head(5)"
   ]
  },
  {
   "cell_type": "code",
   "execution_count": 45,
   "id": "d442d645",
   "metadata": {},
   "outputs": [
    {
     "data": {
      "text/plain": [
       "<AxesSubplot:xlabel='Account'>"
      ]
     },
     "execution_count": 45,
     "metadata": {},
     "output_type": "execute_result"
    },
    {
     "data": {
      "image/png": "[encoded data removed]",
      "text/plain": [
       "<Figure size 576x432 with 1 Axes>"
      ]
     },
     "metadata": {
      "needs_background": "light"
     },
     "output_type": "display_data"
    }
   ],
   "source": [
    "data.plot(x=\"Account\", y=\"Count In\", kind=\"bar\", stacked='True', legend=True, color=colors)"
   ]
  },
  {
   "cell_type": "markdown",
   "id": "0d910c5e",
   "metadata": {},
   "source": [
    "# Data For Cambodia - Smart Mobile"
   ]
  },
  {
   "cell_type": "code",
   "execution_count": 46,
   "id": "94021d71",
   "metadata": {},
   "outputs": [
    {
     "data": {
      "text/html": [
       "<div>\n",
       "<style scoped>\n",
       "    .dataframe tbody tr th:only-of-type {\n",
       "        vertical-align: middle;\n",
       "    }\n",
       "\n",
       "    .dataframe tbody tr th {\n",
       "        vertical-align: top;\n",
       "    }\n",
       "\n",
       "    .dataframe thead th {\n",
       "        text-align: right;\n",
       "    }\n",
       "</style>\n",
       "<table border=\"1\" class=\"dataframe\">\n",
       "  <thead>\n",
       "    <tr style=\"text-align: right;\">\n",
       "      <th></th>\n",
       "      <th>Destination</th>\n",
       "      <th>Account</th>\n",
       "      <th>Count In</th>\n",
       "    </tr>\n",
       "  </thead>\n",
       "  <tbody>\n",
       "    <tr>\n",
       "      <th>81</th>\n",
       "      <td>Cambodia - Smart Mobile</td>\n",
       "      <td>AMD Telecom</td>\n",
       "      <td>154696</td>\n",
       "    </tr>\n",
       "    <tr>\n",
       "      <th>85</th>\n",
       "      <td>Cambodia - Smart Mobile</td>\n",
       "      <td>Facebook</td>\n",
       "      <td>2161787</td>\n",
       "    </tr>\n",
       "    <tr>\n",
       "      <th>86</th>\n",
       "      <td>Cambodia - Smart Mobile</td>\n",
       "      <td>Infobip</td>\n",
       "      <td>2383332</td>\n",
       "    </tr>\n",
       "    <tr>\n",
       "      <th>88</th>\n",
       "      <td>Cambodia - Smart Mobile</td>\n",
       "      <td>Messagebird</td>\n",
       "      <td>837473</td>\n",
       "    </tr>\n",
       "    <tr>\n",
       "      <th>94</th>\n",
       "      <td>Cambodia - Smart Mobile</td>\n",
       "      <td>Sinch</td>\n",
       "      <td>103129</td>\n",
       "    </tr>\n",
       "  </tbody>\n",
       "</table>\n",
       "</div>"
      ],
      "text/plain": [
       "                Destination      Account  Count In\n",
       "81  Cambodia - Smart Mobile  AMD Telecom    154696\n",
       "85  Cambodia - Smart Mobile     Facebook   2161787\n",
       "86  Cambodia - Smart Mobile      Infobip   2383332\n",
       "88  Cambodia - Smart Mobile  Messagebird    837473\n",
       "94  Cambodia - Smart Mobile        Sinch    103129"
      ]
     },
     "execution_count": 46,
     "metadata": {},
     "output_type": "execute_result"
    }
   ],
   "source": [
    "data = df_loop[df_loop['Destination'].str.contains(\"Cambodia - Smart Mobile\")]\n",
    "data.head(5)"
   ]
  },
  {
   "cell_type": "code",
   "execution_count": 47,
   "id": "068b9903",
   "metadata": {},
   "outputs": [
    {
     "data": {
      "text/plain": [
       "<AxesSubplot:xlabel='Account'>"
      ]
     },
     "execution_count": 47,
     "metadata": {},
     "output_type": "execute_result"
    },
    {
     "data": {
      "image/png": "[encoded data removed]",
      "text/plain": [
       "<Figure size 576x432 with 1 Axes>"
      ]
     },
     "metadata": {
      "needs_background": "light"
     },
     "output_type": "display_data"
    }
   ],
   "source": [
    "data.plot(x=\"Account\", y=\"Count In\", kind=\"bar\", stacked='True', legend=True, color=colors)"
   ]
  },
  {
   "cell_type": "markdown",
   "id": "3dc46424",
   "metadata": {},
   "source": [
    "# Data For Indonesia - XL"
   ]
  },
  {
   "cell_type": "code",
   "execution_count": 48,
   "id": "b335b95d",
   "metadata": {},
   "outputs": [
    {
     "data": {
      "text/html": [
       "<div>\n",
       "<style scoped>\n",
       "    .dataframe tbody tr th:only-of-type {\n",
       "        vertical-align: middle;\n",
       "    }\n",
       "\n",
       "    .dataframe tbody tr th {\n",
       "        vertical-align: top;\n",
       "    }\n",
       "\n",
       "    .dataframe thead th {\n",
       "        text-align: right;\n",
       "    }\n",
       "</style>\n",
       "<table border=\"1\" class=\"dataframe\">\n",
       "  <thead>\n",
       "    <tr style=\"text-align: right;\">\n",
       "      <th></th>\n",
       "      <th>Destination</th>\n",
       "      <th>Account</th>\n",
       "      <th>Count In</th>\n",
       "    </tr>\n",
       "  </thead>\n",
       "  <tbody>\n",
       "    <tr>\n",
       "      <th>119</th>\n",
       "      <td>Indonesia - XL</td>\n",
       "      <td>Facebook</td>\n",
       "      <td>4105270</td>\n",
       "    </tr>\n",
       "    <tr>\n",
       "      <th>120</th>\n",
       "      <td>Indonesia - XL</td>\n",
       "      <td>Intellico AG</td>\n",
       "      <td>13016229</td>\n",
       "    </tr>\n",
       "    <tr>\n",
       "      <th>125</th>\n",
       "      <td>Indonesia - XL</td>\n",
       "      <td>Telekummunikasi Indonesia</td>\n",
       "      <td>12616452</td>\n",
       "    </tr>\n",
       "  </tbody>\n",
       "</table>\n",
       "</div>"
      ],
      "text/plain": [
       "        Destination                    Account  Count In\n",
       "119  Indonesia - XL                   Facebook   4105270\n",
       "120  Indonesia - XL               Intellico AG  13016229\n",
       "125  Indonesia - XL  Telekummunikasi Indonesia  12616452"
      ]
     },
     "execution_count": 48,
     "metadata": {},
     "output_type": "execute_result"
    }
   ],
   "source": [
    "data = df_loop[df_loop['Destination'].str.contains(\"Indonesia - XL\")]\n",
    "data.head(5)"
   ]
  },
  {
   "cell_type": "code",
   "execution_count": 49,
   "id": "488badea",
   "metadata": {},
   "outputs": [
    {
     "data": {
      "text/plain": [
       "<AxesSubplot:xlabel='Account'>"
      ]
     },
     "execution_count": 49,
     "metadata": {},
     "output_type": "execute_result"
    },
    {
     "data": {
      "image/png": "[encoded data removed]",
      "text/plain": [
       "<Figure size 576x432 with 1 Axes>"
      ]
     },
     "metadata": {
      "needs_background": "light"
     },
     "output_type": "display_data"
    }
   ],
   "source": [
    "data.plot(x=\"Account\", y=\"Count In\", kind=\"bar\", stacked='True', legend=True, color=colors)"
   ]
  },
  {
   "cell_type": "markdown",
   "id": "1529d324",
   "metadata": {},
   "source": [
    "# Data For Malaysia - Celcom"
   ]
  },
  {
   "cell_type": "code",
   "execution_count": 50,
   "id": "fed6d220",
   "metadata": {},
   "outputs": [
    {
     "data": {
      "text/html": [
       "<div>\n",
       "<style scoped>\n",
       "    .dataframe tbody tr th:only-of-type {\n",
       "        vertical-align: middle;\n",
       "    }\n",
       "\n",
       "    .dataframe tbody tr th {\n",
       "        vertical-align: top;\n",
       "    }\n",
       "\n",
       "    .dataframe thead th {\n",
       "        text-align: right;\n",
       "    }\n",
       "</style>\n",
       "<table border=\"1\" class=\"dataframe\">\n",
       "  <thead>\n",
       "    <tr style=\"text-align: right;\">\n",
       "      <th></th>\n",
       "      <th>Destination</th>\n",
       "      <th>Account</th>\n",
       "      <th>Count In</th>\n",
       "    </tr>\n",
       "  </thead>\n",
       "  <tbody>\n",
       "    <tr>\n",
       "      <th>130</th>\n",
       "      <td>Malaysia - Celcom</td>\n",
       "      <td>Facebook</td>\n",
       "      <td>1588389</td>\n",
       "    </tr>\n",
       "    <tr>\n",
       "      <th>133</th>\n",
       "      <td>Malaysia - Celcom</td>\n",
       "      <td>Infobip</td>\n",
       "      <td>1015482</td>\n",
       "    </tr>\n",
       "  </tbody>\n",
       "</table>\n",
       "</div>"
      ],
      "text/plain": [
       "           Destination   Account  Count In\n",
       "130  Malaysia - Celcom  Facebook   1588389\n",
       "133  Malaysia - Celcom   Infobip   1015482"
      ]
     },
     "execution_count": 50,
     "metadata": {},
     "output_type": "execute_result"
    }
   ],
   "source": [
    "data = df_loop[df_loop['Destination'].str.contains(\"Malaysia - Celcom\")]\n",
    "data.head(5)"
   ]
  },
  {
   "cell_type": "code",
   "execution_count": 51,
   "id": "1384a49b",
   "metadata": {},
   "outputs": [
    {
     "data": {
      "text/plain": [
       "<AxesSubplot:xlabel='Account'>"
      ]
     },
     "execution_count": 51,
     "metadata": {},
     "output_type": "execute_result"
    },
    {
     "data": {
      "image/png": "[encoded data removed]",
      "text/plain": [
       "<Figure size 576x432 with 1 Axes>"
      ]
     },
     "metadata": {
      "needs_background": "light"
     },
     "output_type": "display_data"
    }
   ],
   "source": [
    "data.plot(x=\"Account\", y=\"Count In\", kind=\"bar\", stacked='True', legend=True, color=colors)"
   ]
  },
  {
   "cell_type": "markdown",
   "id": "2119200d",
   "metadata": {},
   "source": [
    "# Data For Malaysia - Maxis"
   ]
  },
  {
   "cell_type": "code",
   "execution_count": 52,
   "id": "de570c75",
   "metadata": {},
   "outputs": [
    {
     "data": {
      "text/html": [
       "<div>\n",
       "<style scoped>\n",
       "    .dataframe tbody tr th:only-of-type {\n",
       "        vertical-align: middle;\n",
       "    }\n",
       "\n",
       "    .dataframe tbody tr th {\n",
       "        vertical-align: top;\n",
       "    }\n",
       "\n",
       "    .dataframe thead th {\n",
       "        text-align: right;\n",
       "    }\n",
       "</style>\n",
       "<table border=\"1\" class=\"dataframe\">\n",
       "  <thead>\n",
       "    <tr style=\"text-align: right;\">\n",
       "      <th></th>\n",
       "      <th>Destination</th>\n",
       "      <th>Account</th>\n",
       "      <th>Count In</th>\n",
       "    </tr>\n",
       "  </thead>\n",
       "  <tbody>\n",
       "    <tr>\n",
       "      <th>149</th>\n",
       "      <td>Malaysia - Maxis</td>\n",
       "      <td>Facebook</td>\n",
       "      <td>3136005</td>\n",
       "    </tr>\n",
       "    <tr>\n",
       "      <th>151</th>\n",
       "      <td>Malaysia - Maxis</td>\n",
       "      <td>Messagebird</td>\n",
       "      <td>137416</td>\n",
       "    </tr>\n",
       "  </tbody>\n",
       "</table>\n",
       "</div>"
      ],
      "text/plain": [
       "          Destination      Account  Count In\n",
       "149  Malaysia - Maxis     Facebook   3136005\n",
       "151  Malaysia - Maxis  Messagebird    137416"
      ]
     },
     "execution_count": 52,
     "metadata": {},
     "output_type": "execute_result"
    }
   ],
   "source": [
    "data = df_loop[df_loop['Destination'].str.contains(\"Malaysia - Maxis\")]\n",
    "data.head(5)"
   ]
  },
  {
   "cell_type": "code",
   "execution_count": 53,
   "id": "c673fe04",
   "metadata": {},
   "outputs": [
    {
     "data": {
      "text/plain": [
       "<AxesSubplot:xlabel='Account'>"
      ]
     },
     "execution_count": 53,
     "metadata": {},
     "output_type": "execute_result"
    },
    {
     "data": {
      "image/png": "[encoded data removed]",
      "text/plain": [
       "<Figure size 576x432 with 1 Axes>"
      ]
     },
     "metadata": {
      "needs_background": "light"
     },
     "output_type": "display_data"
    }
   ],
   "source": [
    "data.plot(x=\"Account\", y=\"Count In\", kind=\"bar\", stacked='True', legend=True, color=colors)"
   ]
  },
  {
   "cell_type": "markdown",
   "id": "def8cb4b",
   "metadata": {},
   "source": [
    "# Data For Malaysia - XOX Com"
   ]
  },
  {
   "cell_type": "code",
   "execution_count": 54,
   "id": "6d3cbafd",
   "metadata": {},
   "outputs": [
    {
     "data": {
      "text/html": [
       "<div>\n",
       "<style scoped>\n",
       "    .dataframe tbody tr th:only-of-type {\n",
       "        vertical-align: middle;\n",
       "    }\n",
       "\n",
       "    .dataframe tbody tr th {\n",
       "        vertical-align: top;\n",
       "    }\n",
       "\n",
       "    .dataframe thead th {\n",
       "        text-align: right;\n",
       "    }\n",
       "</style>\n",
       "<table border=\"1\" class=\"dataframe\">\n",
       "  <thead>\n",
       "    <tr style=\"text-align: right;\">\n",
       "      <th></th>\n",
       "      <th>Destination</th>\n",
       "      <th>Account</th>\n",
       "      <th>Count In</th>\n",
       "    </tr>\n",
       "  </thead>\n",
       "  <tbody>\n",
       "    <tr>\n",
       "      <th>180</th>\n",
       "      <td>Malaysia - XOX Com</td>\n",
       "      <td>Facebook</td>\n",
       "      <td>314399</td>\n",
       "    </tr>\n",
       "    <tr>\n",
       "      <th>183</th>\n",
       "      <td>Malaysia - XOX Com</td>\n",
       "      <td>Infobip</td>\n",
       "      <td>147030</td>\n",
       "    </tr>\n",
       "  </tbody>\n",
       "</table>\n",
       "</div>"
      ],
      "text/plain": [
       "            Destination   Account  Count In\n",
       "180  Malaysia - XOX Com  Facebook    314399\n",
       "183  Malaysia - XOX Com   Infobip    147030"
      ]
     },
     "execution_count": 54,
     "metadata": {},
     "output_type": "execute_result"
    }
   ],
   "source": [
    "data = df_loop[df_loop['Destination'].str.contains(\"Malaysia - XOX Com\")]\n",
    "data.head(5)"
   ]
  },
  {
   "cell_type": "code",
   "execution_count": 55,
   "id": "582f3235",
   "metadata": {},
   "outputs": [
    {
     "data": {
      "text/plain": [
       "<AxesSubplot:xlabel='Account'>"
      ]
     },
     "execution_count": 55,
     "metadata": {},
     "output_type": "execute_result"
    },
    {
     "data": {
      "image/png": "[encoded data removed]",
      "text/plain": [
       "<Figure size 576x432 with 1 Axes>"
      ]
     },
     "metadata": {
      "needs_background": "light"
     },
     "output_type": "display_data"
    }
   ],
   "source": [
    "data.plot(x=\"Account\", y=\"Count In\", kind=\"bar\", stacked='True', legend=True, color=colors)"
   ]
  },
  {
   "cell_type": "markdown",
   "id": "8536df66",
   "metadata": {},
   "source": [
    "# Data For Nepal - Ncell"
   ]
  },
  {
   "cell_type": "code",
   "execution_count": 56,
   "id": "e06bf574",
   "metadata": {},
   "outputs": [
    {
     "data": {
      "text/html": [
       "<div>\n",
       "<style scoped>\n",
       "    .dataframe tbody tr th:only-of-type {\n",
       "        vertical-align: middle;\n",
       "    }\n",
       "\n",
       "    .dataframe tbody tr th {\n",
       "        vertical-align: top;\n",
       "    }\n",
       "\n",
       "    .dataframe thead th {\n",
       "        text-align: right;\n",
       "    }\n",
       "</style>\n",
       "<table border=\"1\" class=\"dataframe\">\n",
       "  <thead>\n",
       "    <tr style=\"text-align: right;\">\n",
       "      <th></th>\n",
       "      <th>Destination</th>\n",
       "      <th>Account</th>\n",
       "      <th>Count In</th>\n",
       "    </tr>\n",
       "  </thead>\n",
       "  <tbody>\n",
       "    <tr>\n",
       "      <th>199</th>\n",
       "      <td>Nepal - Ncell</td>\n",
       "      <td>Facebook</td>\n",
       "      <td>3059825</td>\n",
       "    </tr>\n",
       "    <tr>\n",
       "      <th>206</th>\n",
       "      <td>Nepal - Ncell</td>\n",
       "      <td>Wayvz</td>\n",
       "      <td>1959345</td>\n",
       "    </tr>\n",
       "  </tbody>\n",
       "</table>\n",
       "</div>"
      ],
      "text/plain": [
       "       Destination   Account  Count In\n",
       "199  Nepal - Ncell  Facebook   3059825\n",
       "206  Nepal - Ncell     Wayvz   1959345"
      ]
     },
     "execution_count": 56,
     "metadata": {},
     "output_type": "execute_result"
    }
   ],
   "source": [
    "data = df_loop[df_loop['Destination'].str.contains(\"Nepal - Ncell\")]\n",
    "data.head(5)"
   ]
  },
  {
   "cell_type": "code",
   "execution_count": 57,
   "id": "735b059c",
   "metadata": {},
   "outputs": [
    {
     "data": {
      "text/plain": [
       "<AxesSubplot:xlabel='Account'>"
      ]
     },
     "execution_count": 57,
     "metadata": {},
     "output_type": "execute_result"
    },
    {
     "data": {
      "image/png": "[encoded data removed]",
      "text/plain": [
       "<Figure size 576x432 with 1 Axes>"
      ]
     },
     "metadata": {
      "needs_background": "light"
     },
     "output_type": "display_data"
    }
   ],
   "source": [
    "data.plot(x=\"Account\", y=\"Count In\", kind=\"bar\", stacked='True', legend=True, color=colors)"
   ]
  },
  {
   "cell_type": "markdown",
   "id": "bf08c12d",
   "metadata": {},
   "source": [
    "# Data For Thailand - DTAC"
   ]
  },
  {
   "cell_type": "code",
   "execution_count": 58,
   "id": "c1d20a78",
   "metadata": {},
   "outputs": [
    {
     "data": {
      "text/html": [
       "<div>\n",
       "<style scoped>\n",
       "    .dataframe tbody tr th:only-of-type {\n",
       "        vertical-align: middle;\n",
       "    }\n",
       "\n",
       "    .dataframe tbody tr th {\n",
       "        vertical-align: top;\n",
       "    }\n",
       "\n",
       "    .dataframe thead th {\n",
       "        text-align: right;\n",
       "    }\n",
       "</style>\n",
       "<table border=\"1\" class=\"dataframe\">\n",
       "  <thead>\n",
       "    <tr style=\"text-align: right;\">\n",
       "      <th></th>\n",
       "      <th>Destination</th>\n",
       "      <th>Account</th>\n",
       "      <th>Count In</th>\n",
       "    </tr>\n",
       "  </thead>\n",
       "  <tbody>\n",
       "    <tr>\n",
       "      <th>236</th>\n",
       "      <td>Thailand - DTAC</td>\n",
       "      <td>Facebook</td>\n",
       "      <td>3529659</td>\n",
       "    </tr>\n",
       "  </tbody>\n",
       "</table>\n",
       "</div>"
      ],
      "text/plain": [
       "         Destination   Account  Count In\n",
       "236  Thailand - DTAC  Facebook   3529659"
      ]
     },
     "execution_count": 58,
     "metadata": {},
     "output_type": "execute_result"
    }
   ],
   "source": [
    "data = df_loop[df_loop['Destination'].str.contains(\"Thailand - DTAC\")]\n",
    "data.head(5)"
   ]
  },
  {
   "cell_type": "markdown",
   "id": "f3535719",
   "metadata": {},
   "source": [
    "# Data For Thailand - True Move"
   ]
  },
  {
   "cell_type": "code",
   "execution_count": 59,
   "id": "4049750a",
   "metadata": {},
   "outputs": [
    {
     "data": {
      "text/html": [
       "<div>\n",
       "<style scoped>\n",
       "    .dataframe tbody tr th:only-of-type {\n",
       "        vertical-align: middle;\n",
       "    }\n",
       "\n",
       "    .dataframe tbody tr th {\n",
       "        vertical-align: top;\n",
       "    }\n",
       "\n",
       "    .dataframe thead th {\n",
       "        text-align: right;\n",
       "    }\n",
       "</style>\n",
       "<table border=\"1\" class=\"dataframe\">\n",
       "  <thead>\n",
       "    <tr style=\"text-align: right;\">\n",
       "      <th></th>\n",
       "      <th>Destination</th>\n",
       "      <th>Account</th>\n",
       "      <th>Count In</th>\n",
       "    </tr>\n",
       "  </thead>\n",
       "  <tbody>\n",
       "    <tr>\n",
       "      <th>240</th>\n",
       "      <td>Thailand - True Move</td>\n",
       "      <td>Facebook</td>\n",
       "      <td>6896064</td>\n",
       "    </tr>\n",
       "  </tbody>\n",
       "</table>\n",
       "</div>"
      ],
      "text/plain": [
       "              Destination   Account  Count In\n",
       "240  Thailand - True Move  Facebook   6896064"
      ]
     },
     "execution_count": 59,
     "metadata": {},
     "output_type": "execute_result"
    }
   ],
   "source": [
    "data = df_loop[df_loop['Destination'].str.contains(\"Thailand - True Move\")]\n",
    "data.head(5)"
   ]
  },
  {
   "cell_type": "markdown",
   "id": "2ec4c4c5",
   "metadata": {},
   "source": [
    "# Data For Vietnam - I-Telecom"
   ]
  },
  {
   "cell_type": "code",
   "execution_count": 60,
   "id": "dc5143eb",
   "metadata": {},
   "outputs": [
    {
     "data": {
      "text/html": [
       "<div>\n",
       "<style scoped>\n",
       "    .dataframe tbody tr th:only-of-type {\n",
       "        vertical-align: middle;\n",
       "    }\n",
       "\n",
       "    .dataframe tbody tr th {\n",
       "        vertical-align: top;\n",
       "    }\n",
       "\n",
       "    .dataframe thead th {\n",
       "        text-align: right;\n",
       "    }\n",
       "</style>\n",
       "<table border=\"1\" class=\"dataframe\">\n",
       "  <thead>\n",
       "    <tr style=\"text-align: right;\">\n",
       "      <th></th>\n",
       "      <th>Destination</th>\n",
       "      <th>Account</th>\n",
       "      <th>Count In</th>\n",
       "    </tr>\n",
       "  </thead>\n",
       "  <tbody>\n",
       "    <tr>\n",
       "      <th>243</th>\n",
       "      <td>Vietnam - I-Telecom</td>\n",
       "      <td>Facebook</td>\n",
       "      <td>102021</td>\n",
       "    </tr>\n",
       "  </tbody>\n",
       "</table>\n",
       "</div>"
      ],
      "text/plain": [
       "             Destination   Account  Count In\n",
       "243  Vietnam - I-Telecom  Facebook    102021"
      ]
     },
     "execution_count": 60,
     "metadata": {},
     "output_type": "execute_result"
    }
   ],
   "source": [
    "data = df_loop[df_loop['Destination'].str.contains(\"Vietnam - I-Telecom\")]\n",
    "data.head(5)"
   ]
  },
  {
   "cell_type": "markdown",
   "id": "95ca0f6d",
   "metadata": {},
   "source": [
    "# Data For Vietnam - Mobifone"
   ]
  },
  {
   "cell_type": "code",
   "execution_count": 61,
   "id": "fbf8e04f",
   "metadata": {},
   "outputs": [
    {
     "data": {
      "text/html": [
       "<div>\n",
       "<style scoped>\n",
       "    .dataframe tbody tr th:only-of-type {\n",
       "        vertical-align: middle;\n",
       "    }\n",
       "\n",
       "    .dataframe tbody tr th {\n",
       "        vertical-align: top;\n",
       "    }\n",
       "\n",
       "    .dataframe thead th {\n",
       "        text-align: right;\n",
       "    }\n",
       "</style>\n",
       "<table border=\"1\" class=\"dataframe\">\n",
       "  <thead>\n",
       "    <tr style=\"text-align: right;\">\n",
       "      <th></th>\n",
       "      <th>Destination</th>\n",
       "      <th>Account</th>\n",
       "      <th>Count In</th>\n",
       "    </tr>\n",
       "  </thead>\n",
       "  <tbody>\n",
       "    <tr>\n",
       "      <th>244</th>\n",
       "      <td>Vietnam - Mobifone</td>\n",
       "      <td>Facebook</td>\n",
       "      <td>5206465</td>\n",
       "    </tr>\n",
       "    <tr>\n",
       "      <th>245</th>\n",
       "      <td>Vietnam - Mobifone</td>\n",
       "      <td>Messagebird</td>\n",
       "      <td>289450</td>\n",
       "    </tr>\n",
       "  </tbody>\n",
       "</table>\n",
       "</div>"
      ],
      "text/plain": [
       "            Destination      Account  Count In\n",
       "244  Vietnam - Mobifone     Facebook   5206465\n",
       "245  Vietnam - Mobifone  Messagebird    289450"
      ]
     },
     "execution_count": 61,
     "metadata": {},
     "output_type": "execute_result"
    }
   ],
   "source": [
    "data = df_loop[df_loop['Destination'].str.contains(\"Vietnam - Mobifone\")]\n",
    "data.head(5)"
   ]
  },
  {
   "cell_type": "code",
   "execution_count": 62,
   "id": "7d648266",
   "metadata": {},
   "outputs": [
    {
     "data": {
      "text/plain": [
       "<AxesSubplot:xlabel='Account'>"
      ]
     },
     "execution_count": 62,
     "metadata": {},
     "output_type": "execute_result"
    },
    {
     "data": {
      "image/png": "[encoded data removed]",
      "text/plain": [
       "<Figure size 576x432 with 1 Axes>"
      ]
     },
     "metadata": {
      "needs_background": "light"
     },
     "output_type": "display_data"
    }
   ],
   "source": [
    "data.plot(x=\"Account\", y=\"Count In\", kind=\"bar\", stacked='True', legend=True, color=colors)"
   ]
  },
  {
   "cell_type": "markdown",
   "id": "187debd9",
   "metadata": {},
   "source": [
    "# Data for Vietnam - Viettel Mobile"
   ]
  },
  {
   "cell_type": "code",
   "execution_count": 63,
   "id": "a95169ce",
   "metadata": {},
   "outputs": [
    {
     "data": {
      "text/html": [
       "<div>\n",
       "<style scoped>\n",
       "    .dataframe tbody tr th:only-of-type {\n",
       "        vertical-align: middle;\n",
       "    }\n",
       "\n",
       "    .dataframe tbody tr th {\n",
       "        vertical-align: top;\n",
       "    }\n",
       "\n",
       "    .dataframe thead th {\n",
       "        text-align: right;\n",
       "    }\n",
       "</style>\n",
       "<table border=\"1\" class=\"dataframe\">\n",
       "  <thead>\n",
       "    <tr style=\"text-align: right;\">\n",
       "      <th></th>\n",
       "      <th>Destination</th>\n",
       "      <th>Account</th>\n",
       "      <th>Count In</th>\n",
       "    </tr>\n",
       "  </thead>\n",
       "  <tbody>\n",
       "    <tr>\n",
       "      <th>250</th>\n",
       "      <td>Vietnam - Viettel Mobile</td>\n",
       "      <td>Facebook</td>\n",
       "      <td>111850</td>\n",
       "    </tr>\n",
       "  </tbody>\n",
       "</table>\n",
       "</div>"
      ],
      "text/plain": [
       "                  Destination   Account  Count In\n",
       "250  Vietnam - Viettel Mobile  Facebook    111850"
      ]
     },
     "execution_count": 63,
     "metadata": {},
     "output_type": "execute_result"
    }
   ],
   "source": [
    "data = df_loop[df_loop['Destination'].str.contains(\"Vietnam - Viettel Mobile\")]\n",
    "data.head(5)"
   ]
  },
  {
   "cell_type": "markdown",
   "id": "4a3c7c02",
   "metadata": {},
   "source": [
    "# Data for Vietnam - Vinaphone\n"
   ]
  },
  {
   "cell_type": "code",
   "execution_count": 64,
   "id": "d2e9899c",
   "metadata": {},
   "outputs": [
    {
     "data": {
      "text/html": [
       "<div>\n",
       "<style scoped>\n",
       "    .dataframe tbody tr th:only-of-type {\n",
       "        vertical-align: middle;\n",
       "    }\n",
       "\n",
       "    .dataframe tbody tr th {\n",
       "        vertical-align: top;\n",
       "    }\n",
       "\n",
       "    .dataframe thead th {\n",
       "        text-align: right;\n",
       "    }\n",
       "</style>\n",
       "<table border=\"1\" class=\"dataframe\">\n",
       "  <thead>\n",
       "    <tr style=\"text-align: right;\">\n",
       "      <th></th>\n",
       "      <th>Destination</th>\n",
       "      <th>Account</th>\n",
       "      <th>Count In</th>\n",
       "    </tr>\n",
       "  </thead>\n",
       "  <tbody>\n",
       "    <tr>\n",
       "      <th>252</th>\n",
       "      <td>Vietnam - Vinaphone</td>\n",
       "      <td>Facebook</td>\n",
       "      <td>4853522</td>\n",
       "    </tr>\n",
       "  </tbody>\n",
       "</table>\n",
       "</div>"
      ],
      "text/plain": [
       "             Destination   Account  Count In\n",
       "252  Vietnam - Vinaphone  Facebook   4853522"
      ]
     },
     "execution_count": 64,
     "metadata": {},
     "output_type": "execute_result"
    }
   ],
   "source": [
    "data = df_loop[df_loop['Destination'].str.contains(\"Vietnam - Vinaphone\")]\n",
    "data.head(5)"
   ]
  },
  {
   "cell_type": "code",
   "execution_count": 65,
   "id": "14f513f2",
   "metadata": {},
   "outputs": [],
   "source": [
    "# data.plot(x=\"Account\", y=\"Count In\", kind=\"bar\", stacked='True', legend=True, color=colors)"
   ]
  }
 ],
 "metadata": {
  "kernelspec": {
   "display_name": "Python 3 (ipykernel)",
   "language": "python",
   "name": "python3"
  },
  "language_info": {
   "codemirror_mode": {
    "name": "ipython",
    "version": 3
   },
   "file_extension": ".py",
   "mimetype": "text/x-python",
   "name": "python",
   "nbconvert_exporter": "python",
   "pygments_lexer": "ipython3",
   "version": "3.9.7"
  }
 },
 "nbformat": 4,
 "nbformat_minor": 5
}
