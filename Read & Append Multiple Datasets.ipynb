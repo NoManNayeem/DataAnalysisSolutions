{
 "cells": [
  {
   "cell_type": "code",
   "execution_count": 2,
   "id": "34f33c77",
   "metadata": {},
   "outputs": [],
   "source": [
    "# stop\n",
    "import pandas as pd\n",
    "import os\n",
    "import glob"
   ]
  },
  {
   "cell_type": "code",
   "execution_count": 3,
   "id": "2bf176a6",
   "metadata": {},
   "outputs": [],
   "source": [
    "path1 = \"C:/Users/NayeemIslam/Downloads/reports/reports/1624429447305838080\"\n",
    "path2 = \"C:/Users/NayeemIslam/Downloads/reports/reports/1630494260176582144\"\n",
    "path3 = \"C:/Users/NayeemIslam/Downloads/reports/reports/1630568076503197696\"\n",
    "path4 = \"C:/Users/NayeemIslam/Downloads/reports/reports/1632974228279351040\"\n",
    "path5 = \"C:/Users/NayeemIslam/Downloads/reports/reports/1632987586305926912\"\n",
    "path6 = \"C:/Users/NayeemIslam/Downloads/reports/reports/1632987767888751104\"\n",
    "path7 = \"C:/Users/NayeemIslam/Downloads/reports/reports/1634019875051649792\"\n",
    "path8 = \"C:/Users/NayeemIslam/Downloads/reports/reports/1639023256477633024\"\n",
    "path9 = \"C:/Users/NayeemIslam/Downloads/reports/reports/1641832729035033600\"\n",
    "path10 = \"C:/Users/NayeemIslam/Downloads/reports/reports/1644219111060576512\"\n",
    "path11 = \"C:/Users/NayeemIslam/Downloads/reports/reports/1644823620686773248\"\n",
    "path12 = \"C:/Users/NayeemIslam/Downloads/reports/reports/1645952732835410176\"\n",
    "path13 = \"C:/Users/NayeemIslam/Downloads/reports/reports/1645954664134206976\"\n",
    "path14 = \"C:/Users/NayeemIslam/Downloads/reports/reports/1647113528602088448\"\n",
    "path14 = \"C:/Users/NayeemIslam/Downloads/reports/reports/1647343879520783872\"\n",
    "path16 = \"C:/Users/NayeemIslam/Downloads/reports/reports/1647680310467844096\"\n",
    "path17 = \"C:/Users/NayeemIslam/Downloads/reports/reports/1652179683527667456\"\n"
   ]
  },
  {
   "cell_type": "code",
   "execution_count": 4,
   "id": "7a213186",
   "metadata": {},
   "outputs": [],
   "source": [
    "# Creating list of Path\n",
    "my_list = [\n",
    "    \"C:/Users/NayeemIslam/Downloads/reports/reports/1624429447305838080\",\n",
    "    \"C:/Users/NayeemIslam/Downloads/reports/reports/1630494260176582144\",\n",
    "    \"C:/Users/NayeemIslam/Downloads/reports/reports/1630568076503197696\",\n",
    "    \"C:/Users/NayeemIslam/Downloads/reports/reports/1632974228279351040\",\n",
    "    \"C:/Users/NayeemIslam/Downloads/reports/reports/1632987586305926912\",\n",
    "    \"C:/Users/NayeemIslam/Downloads/reports/reports/1632987767888751104\",\n",
    "    \"C:/Users/NayeemIslam/Downloads/reports/reports/1634019875051649792\",\n",
    "    \"C:/Users/NayeemIslam/Downloads/reports/reports/1639023256477633024\",\n",
    "    \"C:/Users/NayeemIslam/Downloads/reports/reports/1641832729035033600\",\n",
    "    \"C:/Users/NayeemIslam/Downloads/reports/reports/1644219111060576512\",\n",
    "    \"C:/Users/NayeemIslam/Downloads/reports/reports/1644823620686773248\",\n",
    "    \"C:/Users/NayeemIslam/Downloads/reports/reports/1645952732835410176\",\n",
    "    \"C:/Users/NayeemIslam/Downloads/reports/reports/1645954664134206976\",\n",
    "    \"C:/Users/NayeemIslam/Downloads/reports/reports/1647113528602088448\",\n",
    "    \"C:/Users/NayeemIslam/Downloads/reports/reports/1647343879520783872\",\n",
    "    \"C:/Users/NayeemIslam/Downloads/reports/reports/1647680310467844096\",\n",
    "    \"C:/Users/NayeemIslam/Downloads/reports/reports/1652179683527667456\",\n",
    "    ]\n",
    "\n"
   ]
  },
  {
   "cell_type": "code",
   "execution_count": 16,
   "id": "56434814",
   "metadata": {},
   "outputs": [],
   "source": [
    "frames = []\n",
    "li = []\n",
    "for path in my_list:\n",
    "    print(path)\n",
    "#     li = []\n",
    "    for file in glob.glob(os.path.join(path, 'survey*.csv')):\n",
    "        print(file)\n",
    "        df = pd.read_csv(file)\n",
    "        li.append(df)\n",
    "#     frame = pd.concat(li, axis=0, ignore_index=True)\n",
    "#     frames.append(frame)"
   ]
  },
  {
   "cell_type": "code",
   "execution_count": 17,
   "id": "83db1327",
   "metadata": {},
   "outputs": [],
   "source": [
    "frame = pd.concat(li, axis=0, ignore_index=True)\n",
    "frame"
   ]
  },
  {
   "cell_type": "code",
   "execution_count": 18,
   "id": "da8a0920",
   "metadata": {},
   "outputs": [],
   "source": [
    "frame2=frame.drop_duplicates(['participant_phone']).reset_index(drop=True)\n",
    "frame2"
   ]
  },
  {
   "cell_type": "code",
   "execution_count": 14,
   "id": "2f19be82",
   "metadata": {},
   "outputs": [],
   "source": [
    "#Download CSV\n",
    "# frame2.to_csv (r'C:/Users/NayeemIslam/Downloads/reports/reports/AllSurveyReport.csv', index = False, header=True)"
   ]
  },
  {
   "cell_type": "code",
   "execution_count": null,
   "id": "d550ddef",
   "metadata": {},
   "outputs": [],
   "source": []
  },
  {
   "cell_type": "code",
   "execution_count": null,
   "id": "34350ee5",
   "metadata": {},
   "outputs": [],
   "source": []
  },
  {
   "cell_type": "code",
   "execution_count": null,
   "id": "6ac1f0ff",
   "metadata": {},
   "outputs": [],
   "source": []
  },
  {
   "cell_type": "code",
   "execution_count": null,
   "id": "360ddea2",
   "metadata": {},
   "outputs": [],
   "source": []
  },
  {
   "cell_type": "code",
   "execution_count": 7,
   "id": "f79e6473",
   "metadata": {},
   "outputs": [],
   "source": [
    "# myDataFrame = pd.DataFrame()\n",
    "# for df in frames:\n",
    "#     myDataFrame.append(df)\n"
   ]
  },
  {
   "cell_type": "code",
   "execution_count": 8,
   "id": "15b4d7c7",
   "metadata": {},
   "outputs": [
    {
     "data": {
      "text/html": [
       "<div>\n",
       "<style scoped>\n",
       "    .dataframe tbody tr th:only-of-type {\n",
       "        vertical-align: middle;\n",
       "    }\n",
       "\n",
       "    .dataframe tbody tr th {\n",
       "        vertical-align: top;\n",
       "    }\n",
       "\n",
       "    .dataframe thead th {\n",
       "        text-align: right;\n",
       "    }\n",
       "</style>\n",
       "<table border=\"1\" class=\"dataframe\">\n",
       "  <thead>\n",
       "    <tr style=\"text-align: right;\">\n",
       "      <th></th>\n",
       "    </tr>\n",
       "  </thead>\n",
       "  <tbody>\n",
       "  </tbody>\n",
       "</table>\n",
       "</div>"
      ],
      "text/plain": [
       "Empty DataFrame\n",
       "Columns: []\n",
       "Index: []"
      ]
     },
     "execution_count": 8,
     "metadata": {},
     "output_type": "execute_result"
    }
   ],
   "source": [
    "# myDataFrame"
   ]
  },
  {
   "cell_type": "code",
   "execution_count": null,
   "id": "d40c5dbb",
   "metadata": {},
   "outputs": [],
   "source": []
  },
  {
   "cell_type": "code",
   "execution_count": null,
   "id": "fdc8b2a4",
   "metadata": {},
   "outputs": [],
   "source": [
    "stop"
   ]
  },
  {
   "cell_type": "code",
   "execution_count": null,
   "id": "2a6fc251",
   "metadata": {},
   "outputs": [],
   "source": []
  },
  {
   "cell_type": "code",
   "execution_count": null,
   "id": "2c32a9af",
   "metadata": {},
   "outputs": [],
   "source": [
    "######## Works\n",
    "# path = \"C:/Users/NayeemIslam/Downloads/reports\"\n",
    "\n",
    "# li = []\n",
    "# for file in glob.glob(os.path.join(path, 'test*.csv')):\n",
    "#     print(file)\n",
    "#     df = pd.read_csv(file)\n",
    "#     li.append(df)\n",
    "#     print(\"Appended\")"
   ]
  },
  {
   "cell_type": "code",
   "execution_count": null,
   "id": "a01c791b",
   "metadata": {},
   "outputs": [],
   "source": [
    "# frame = pd.concat(li, axis=0, ignore_index=True)\n",
    "# frame"
   ]
  },
  {
   "cell_type": "code",
   "execution_count": null,
   "id": "71c64023",
   "metadata": {},
   "outputs": [],
   "source": [
    "# frame2=frame.drop_duplicates(['name']).reset_index(drop=True)\n",
    "# frame2"
   ]
  },
  {
   "cell_type": "code",
   "execution_count": null,
   "id": "c1d7b8cc",
   "metadata": {},
   "outputs": [],
   "source": [
    "# frame.to_csv (r'C:/Users/NayeemIslam/Downloads/reports/reports/df_1.csv', index = False, header=True)"
   ]
  },
  {
   "cell_type": "code",
   "execution_count": null,
   "id": "1f6d6f93",
   "metadata": {},
   "outputs": [],
   "source": []
  }
 ],
 "metadata": {
  "kernelspec": {
   "display_name": "Python 3 (ipykernel)",
   "language": "python",
   "name": "python3"
  },
  "language_info": {
   "codemirror_mode": {
    "name": "ipython",
    "version": 3
   },
   "file_extension": ".py",
   "mimetype": "text/x-python",
   "name": "python",
   "nbconvert_exporter": "python",
   "pygments_lexer": "ipython3",
   "version": "3.9.7"
  }
 },
 "nbformat": 4,
 "nbformat_minor": 5
}
